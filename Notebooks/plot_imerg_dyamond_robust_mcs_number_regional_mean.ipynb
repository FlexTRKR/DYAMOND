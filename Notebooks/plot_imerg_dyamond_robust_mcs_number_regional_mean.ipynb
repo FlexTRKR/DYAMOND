{
 "cells": [
  {
   "cell_type": "markdown",
   "id": "01af56e1-d94a-4236-98bd-c71006291aa9",
   "metadata": {},
   "source": [
    "# This notebook plots the average number of robust MCS comparisons for a set of regions \n",
    "\n",
    "## It uses MCS track statistics file and counts each unique MCS located on a 1x1 degree grid once"
   ]
  },
  {
   "cell_type": "code",
   "execution_count": 1,
   "id": "6a415a28-ae47-47be-be35-15054a023c94",
   "metadata": {},
   "outputs": [],
   "source": [
    "import numpy as np\n",
    "import xarray as xr\n",
    "import pandas as pd\n",
    "import glob, os\n",
    "import matplotlib as mpl\n",
    "import matplotlib.pyplot as plt\n",
    "from scipy.ndimage import gaussian_filter\n",
    "import matplotlib as mpl\n",
    "import matplotlib.pyplot as plt\n",
    "import matplotlib.colors as colors\n",
    "import matplotlib.gridspec as gridspec\n",
    "import matplotlib.patches as mpatches\n",
    "from itertools import chain\n",
    "import copy\n",
    "%matplotlib inline"
   ]
  },
  {
   "cell_type": "code",
   "execution_count": 2,
   "id": "6bdf23e1-d23b-4d59-a55d-b2bb7c7af0f8",
   "metadata": {},
   "outputs": [
    {
     "name": "stdout",
     "output_type": "stream",
     "text": [
      "/global/cfs/cdirs/m1867/zfeng/dyamond-winter/figures_pf0duration/\n"
     ]
    }
   ],
   "source": [
    "# Dictionary for official model names\n",
    "model_name = {\n",
    "    'obs': 'OBS',\n",
    "    'scream': 'SCREAM',\n",
    "    'mpi': 'ICON',\n",
    "    'nasa': 'GEOS',\n",
    "    'nicam': 'NICAM',\n",
    "    'uk': 'UM',\n",
    "    'noaa': 'X-SHiELD',\n",
    "}\n",
    "\n",
    "lifetime_bounds = [2,400]\n",
    "sdate = '2020-02-01T00'\n",
    "edate = '2020-03-01T00'\n",
    "\n",
    "# test = ''\n",
    "test = '_pf0duration'\n",
    "rootdir = '/global/cfs/cdirs/m1867/zfeng/dyamond-winter/'\n",
    "obsdir = f'{rootdir}obs/stats{test}/'\n",
    "obsfile = f'{obsdir}mcs_tracks_robust_20200120.0000_20200301.0000.nc'\n",
    "\n",
    "name_map = {\n",
    "    'obs': 'obs',\n",
    "    'm1': 'mpi',\n",
    "    'm2': 'scream',\n",
    "    'm3': 'nasa',\n",
    "    'm4': 'nicam',\n",
    "    'm5': 'noaa',\n",
    "    'm6': 'uk',\n",
    "}\n",
    "m1dir = f'{rootdir}{name_map[\"m1\"]}/stats{test}/'\n",
    "m2dir = f'{rootdir}{name_map[\"m2\"]}/stats{test}/'\n",
    "m3dir = f'{rootdir}{name_map[\"m3\"]}/stats{test}/'\n",
    "m4dir = f'{rootdir}{name_map[\"m4\"]}/stats{test}/'\n",
    "m5dir = f'{rootdir}{name_map[\"m5\"]}/stats{test}/'\n",
    "m6dir = f'{rootdir}{name_map[\"m6\"]}/stats{test}/'\n",
    "m1file = f'{m1dir}mcs_tracks_robust_20200120.0000_20200301.0000.nc'\n",
    "m2file = f'{m2dir}mcs_tracks_robust_20200120.0000_20200301.0000.nc'\n",
    "m3file = f'{m3dir}mcs_tracks_robust_20200120.0000_20200301.0000.nc'\n",
    "m4file = f'{m4dir}mcs_tracks_robust_20200120.0000_20200301.0000.nc'\n",
    "m5file = f'{m5dir}mcs_tracks_robust_20200120.0000_20200301.0000.nc'\n",
    "m6file = f'{m6dir}mcs_tracks_robust_20200120.0000_20200301.0000.nc'\n",
    "\n",
    "figdir = f'/global/cfs/cdirs/m1867/zfeng/dyamond-winter/figures{test}/'\n",
    "os.makedirs(figdir, exist_ok=True)\n",
    "print(figdir)"
   ]
  },
  {
   "cell_type": "code",
   "execution_count": 3,
   "id": "896ac117-09ac-48ab-a37f-3ba85d95a78c",
   "metadata": {},
   "outputs": [
    {
     "data": {
      "text/plain": [
       "('/global/cfs/cdirs/m1867/zfeng/dyamond-winter/obs/stats_pf0duration/mcs_tracks_robust_20200120.0000_20200301.0000.nc',\n",
       " '/global/cfs/cdirs/m1867/zfeng/dyamond-winter/mpi/stats_pf0duration/mcs_tracks_robust_20200120.0000_20200301.0000.nc',\n",
       " '/global/cfs/cdirs/m1867/zfeng/dyamond-winter/scream/stats_pf0duration/mcs_tracks_robust_20200120.0000_20200301.0000.nc',\n",
       " '/global/cfs/cdirs/m1867/zfeng/dyamond-winter/nasa/stats_pf0duration/mcs_tracks_robust_20200120.0000_20200301.0000.nc',\n",
       " '/global/cfs/cdirs/m1867/zfeng/dyamond-winter/nicam/stats_pf0duration/mcs_tracks_robust_20200120.0000_20200301.0000.nc',\n",
       " '/global/cfs/cdirs/m1867/zfeng/dyamond-winter/noaa/stats_pf0duration/mcs_tracks_robust_20200120.0000_20200301.0000.nc',\n",
       " '/global/cfs/cdirs/m1867/zfeng/dyamond-winter/uk/stats_pf0duration/mcs_tracks_robust_20200120.0000_20200301.0000.nc')"
      ]
     },
     "execution_count": 3,
     "metadata": {},
     "output_type": "execute_result"
    }
   ],
   "source": [
    "obsfile, m1file, m2file, m3file, m4file, m5file, m6file"
   ]
  },
  {
   "cell_type": "markdown",
   "id": "f6680de5-dbee-417d-bb2a-a5532349558c",
   "metadata": {},
   "source": [
    "## Custom functions for track selections"
   ]
  },
  {
   "cell_type": "code",
   "execution_count": 4,
   "id": "f390780e-c8d6-4abd-8738-7347080acc3c",
   "metadata": {},
   "outputs": [],
   "source": [
    "def find_track_in_region(start_basetime, lons, lats, lifetime, lon_bounds, lat_bounds, lifetime_bounds):\n",
    "    \"\"\"\n",
    "    Find tracks within a period, region and lifetime bounds.\n",
    "    \"\"\"\n",
    "    # Get the track initiation location\n",
    "    start_lon = lons.isel(times=0)\n",
    "    start_lat = lats.isel(times=0)\n",
    "\n",
    "    # Find tracks that initiates within a region\n",
    "    mcsidx = np.where(\n",
    "        (start_basetime >= pd.to_datetime(sdate)) & (start_basetime <= pd.to_datetime(edate)) & \\\n",
    "        (start_lon >= min(lon_bounds)) & (start_lon <= max(lon_bounds)) & \\\n",
    "        (start_lat >= min(lat_bounds)) & (start_lat <= max(lat_bounds)) & \\\n",
    "        (lifetime >= min(lifetime_bounds)) & (lifetime <= max(lifetime_bounds))\n",
    "    )[0]\n",
    "    return mcsidx\n",
    "\n",
    "def get_unique_placements(track_num, lat, lon, ntimes):\n",
    "    \"\"\"\n",
    "    Get unique pairs of lat/lon for a track\n",
    "    \"\"\"\n",
    "    # Put all lat/lon pairs over each time for a track into an array\n",
    "    this_row = np.array([[lat[track_num, tt], lon[track_num, tt]] for tt in range(0, ntimes)])\n",
    "    # Return the unique pairs (axis=0)\n",
    "    return np.array(np.unique(this_row, axis=0))\n",
    "\n",
    "def count_unique_mcs(lat, lon, xbins, ybins):\n",
    "    \n",
    "    ntracks, ntimes = lat.shape\n",
    "\n",
    "    # A function to loop over tracks\n",
    "    get_unique = lambda D: get_unique_placements(D, lat, lon, ntimes)\n",
    "\n",
    "    # Loop over each track and get the unique pairs of lat/lon\n",
    "    all_uniques = list(map(get_unique, np.arange(0, ntracks)))\n",
    "\n",
    "    # Flatten the list of lat/lon pairs (using chain), and convert into an array\n",
    "    unique_latlon = np.array(list(chain(*all_uniques)))\n",
    "\n",
    "    # Count number on map using histogram2d\n",
    "    ranges = [[min(ybins), max(ybins)], [min(xbins), max(xbins)]]\n",
    "    hist2d, yedges, xedges = np.histogram2d(unique_latlon[:,0], unique_latlon[:,1], bins=[ybins, xbins], range=ranges)\n",
    "\n",
    "    return hist2d"
   ]
  },
  {
   "cell_type": "code",
   "execution_count": 5,
   "id": "5e967221-b73f-45b4-b7d4-7ea61ef3a380",
   "metadata": {},
   "outputs": [
    {
     "data": {
      "text/html": [
       "<div><svg style=\"position: absolute; width: 0; height: 0; overflow: hidden\">\n",
       "<defs>\n",
       "<symbol id=\"icon-database\" viewBox=\"0 0 32 32\">\n",
       "<path d=\"M16 0c-8.837 0-16 2.239-16 5v4c0 2.761 7.163 5 16 5s16-2.239 16-5v-4c0-2.761-7.163-5-16-5z\"></path>\n",
       "<path d=\"M16 17c-8.837 0-16-2.239-16-5v6c0 2.761 7.163 5 16 5s16-2.239 16-5v-6c0 2.761-7.163 5-16 5z\"></path>\n",
       "<path d=\"M16 26c-8.837 0-16-2.239-16-5v6c0 2.761 7.163 5 16 5s16-2.239 16-5v-6c0 2.761-7.163 5-16 5z\"></path>\n",
       "</symbol>\n",
       "<symbol id=\"icon-file-text2\" viewBox=\"0 0 32 32\">\n",
       "<path d=\"M28.681 7.159c-0.694-0.947-1.662-2.053-2.724-3.116s-2.169-2.030-3.116-2.724c-1.612-1.182-2.393-1.319-2.841-1.319h-15.5c-1.378 0-2.5 1.121-2.5 2.5v27c0 1.378 1.122 2.5 2.5 2.5h23c1.378 0 2.5-1.122 2.5-2.5v-19.5c0-0.448-0.137-1.23-1.319-2.841zM24.543 5.457c0.959 0.959 1.712 1.825 2.268 2.543h-4.811v-4.811c0.718 0.556 1.584 1.309 2.543 2.268zM28 29.5c0 0.271-0.229 0.5-0.5 0.5h-23c-0.271 0-0.5-0.229-0.5-0.5v-27c0-0.271 0.229-0.5 0.5-0.5 0 0 15.499-0 15.5 0v7c0 0.552 0.448 1 1 1h7v19.5z\"></path>\n",
       "<path d=\"M23 26h-14c-0.552 0-1-0.448-1-1s0.448-1 1-1h14c0.552 0 1 0.448 1 1s-0.448 1-1 1z\"></path>\n",
       "<path d=\"M23 22h-14c-0.552 0-1-0.448-1-1s0.448-1 1-1h14c0.552 0 1 0.448 1 1s-0.448 1-1 1z\"></path>\n",
       "<path d=\"M23 18h-14c-0.552 0-1-0.448-1-1s0.448-1 1-1h14c0.552 0 1 0.448 1 1s-0.448 1-1 1z\"></path>\n",
       "</symbol>\n",
       "</defs>\n",
       "</svg>\n",
       "<style>/* CSS stylesheet for displaying xarray objects in jupyterlab.\n",
       " *\n",
       " */\n",
       "\n",
       ":root {\n",
       "  --xr-font-color0: var(--jp-content-font-color0, rgba(0, 0, 0, 1));\n",
       "  --xr-font-color2: var(--jp-content-font-color2, rgba(0, 0, 0, 0.54));\n",
       "  --xr-font-color3: var(--jp-content-font-color3, rgba(0, 0, 0, 0.38));\n",
       "  --xr-border-color: var(--jp-border-color2, #e0e0e0);\n",
       "  --xr-disabled-color: var(--jp-layout-color3, #bdbdbd);\n",
       "  --xr-background-color: var(--jp-layout-color0, white);\n",
       "  --xr-background-color-row-even: var(--jp-layout-color1, white);\n",
       "  --xr-background-color-row-odd: var(--jp-layout-color2, #eeeeee);\n",
       "}\n",
       "\n",
       "html[theme=dark],\n",
       "body[data-theme=dark],\n",
       "body.vscode-dark {\n",
       "  --xr-font-color0: rgba(255, 255, 255, 1);\n",
       "  --xr-font-color2: rgba(255, 255, 255, 0.54);\n",
       "  --xr-font-color3: rgba(255, 255, 255, 0.38);\n",
       "  --xr-border-color: #1F1F1F;\n",
       "  --xr-disabled-color: #515151;\n",
       "  --xr-background-color: #111111;\n",
       "  --xr-background-color-row-even: #111111;\n",
       "  --xr-background-color-row-odd: #313131;\n",
       "}\n",
       "\n",
       ".xr-wrap {\n",
       "  display: block !important;\n",
       "  min-width: 300px;\n",
       "  max-width: 700px;\n",
       "}\n",
       "\n",
       ".xr-text-repr-fallback {\n",
       "  /* fallback to plain text repr when CSS is not injected (untrusted notebook) */\n",
       "  display: none;\n",
       "}\n",
       "\n",
       ".xr-header {\n",
       "  padding-top: 6px;\n",
       "  padding-bottom: 6px;\n",
       "  margin-bottom: 4px;\n",
       "  border-bottom: solid 1px var(--xr-border-color);\n",
       "}\n",
       "\n",
       ".xr-header > div,\n",
       ".xr-header > ul {\n",
       "  display: inline;\n",
       "  margin-top: 0;\n",
       "  margin-bottom: 0;\n",
       "}\n",
       "\n",
       ".xr-obj-type,\n",
       ".xr-array-name {\n",
       "  margin-left: 2px;\n",
       "  margin-right: 10px;\n",
       "}\n",
       "\n",
       ".xr-obj-type {\n",
       "  color: var(--xr-font-color2);\n",
       "}\n",
       "\n",
       ".xr-sections {\n",
       "  padding-left: 0 !important;\n",
       "  display: grid;\n",
       "  grid-template-columns: 150px auto auto 1fr 20px 20px;\n",
       "}\n",
       "\n",
       ".xr-section-item {\n",
       "  display: contents;\n",
       "}\n",
       "\n",
       ".xr-section-item input {\n",
       "  display: none;\n",
       "}\n",
       "\n",
       ".xr-section-item input + label {\n",
       "  color: var(--xr-disabled-color);\n",
       "}\n",
       "\n",
       ".xr-section-item input:enabled + label {\n",
       "  cursor: pointer;\n",
       "  color: var(--xr-font-color2);\n",
       "}\n",
       "\n",
       ".xr-section-item input:enabled + label:hover {\n",
       "  color: var(--xr-font-color0);\n",
       "}\n",
       "\n",
       ".xr-section-summary {\n",
       "  grid-column: 1;\n",
       "  color: var(--xr-font-color2);\n",
       "  font-weight: 500;\n",
       "}\n",
       "\n",
       ".xr-section-summary > span {\n",
       "  display: inline-block;\n",
       "  padding-left: 0.5em;\n",
       "}\n",
       "\n",
       ".xr-section-summary-in:disabled + label {\n",
       "  color: var(--xr-font-color2);\n",
       "}\n",
       "\n",
       ".xr-section-summary-in + label:before {\n",
       "  display: inline-block;\n",
       "  content: '►';\n",
       "  font-size: 11px;\n",
       "  width: 15px;\n",
       "  text-align: center;\n",
       "}\n",
       "\n",
       ".xr-section-summary-in:disabled + label:before {\n",
       "  color: var(--xr-disabled-color);\n",
       "}\n",
       "\n",
       ".xr-section-summary-in:checked + label:before {\n",
       "  content: '▼';\n",
       "}\n",
       "\n",
       ".xr-section-summary-in:checked + label > span {\n",
       "  display: none;\n",
       "}\n",
       "\n",
       ".xr-section-summary,\n",
       ".xr-section-inline-details {\n",
       "  padding-top: 4px;\n",
       "  padding-bottom: 4px;\n",
       "}\n",
       "\n",
       ".xr-section-inline-details {\n",
       "  grid-column: 2 / -1;\n",
       "}\n",
       "\n",
       ".xr-section-details {\n",
       "  display: none;\n",
       "  grid-column: 1 / -1;\n",
       "  margin-bottom: 5px;\n",
       "}\n",
       "\n",
       ".xr-section-summary-in:checked ~ .xr-section-details {\n",
       "  display: contents;\n",
       "}\n",
       "\n",
       ".xr-array-wrap {\n",
       "  grid-column: 1 / -1;\n",
       "  display: grid;\n",
       "  grid-template-columns: 20px auto;\n",
       "}\n",
       "\n",
       ".xr-array-wrap > label {\n",
       "  grid-column: 1;\n",
       "  vertical-align: top;\n",
       "}\n",
       "\n",
       ".xr-preview {\n",
       "  color: var(--xr-font-color3);\n",
       "}\n",
       "\n",
       ".xr-array-preview,\n",
       ".xr-array-data {\n",
       "  padding: 0 5px !important;\n",
       "  grid-column: 2;\n",
       "}\n",
       "\n",
       ".xr-array-data,\n",
       ".xr-array-in:checked ~ .xr-array-preview {\n",
       "  display: none;\n",
       "}\n",
       "\n",
       ".xr-array-in:checked ~ .xr-array-data,\n",
       ".xr-array-preview {\n",
       "  display: inline-block;\n",
       "}\n",
       "\n",
       ".xr-dim-list {\n",
       "  display: inline-block !important;\n",
       "  list-style: none;\n",
       "  padding: 0 !important;\n",
       "  margin: 0;\n",
       "}\n",
       "\n",
       ".xr-dim-list li {\n",
       "  display: inline-block;\n",
       "  padding: 0;\n",
       "  margin: 0;\n",
       "}\n",
       "\n",
       ".xr-dim-list:before {\n",
       "  content: '(';\n",
       "}\n",
       "\n",
       ".xr-dim-list:after {\n",
       "  content: ')';\n",
       "}\n",
       "\n",
       ".xr-dim-list li:not(:last-child):after {\n",
       "  content: ',';\n",
       "  padding-right: 5px;\n",
       "}\n",
       "\n",
       ".xr-has-index {\n",
       "  font-weight: bold;\n",
       "}\n",
       "\n",
       ".xr-var-list,\n",
       ".xr-var-item {\n",
       "  display: contents;\n",
       "}\n",
       "\n",
       ".xr-var-item > div,\n",
       ".xr-var-item label,\n",
       ".xr-var-item > .xr-var-name span {\n",
       "  background-color: var(--xr-background-color-row-even);\n",
       "  margin-bottom: 0;\n",
       "}\n",
       "\n",
       ".xr-var-item > .xr-var-name:hover span {\n",
       "  padding-right: 5px;\n",
       "}\n",
       "\n",
       ".xr-var-list > li:nth-child(odd) > div,\n",
       ".xr-var-list > li:nth-child(odd) > label,\n",
       ".xr-var-list > li:nth-child(odd) > .xr-var-name span {\n",
       "  background-color: var(--xr-background-color-row-odd);\n",
       "}\n",
       "\n",
       ".xr-var-name {\n",
       "  grid-column: 1;\n",
       "}\n",
       "\n",
       ".xr-var-dims {\n",
       "  grid-column: 2;\n",
       "}\n",
       "\n",
       ".xr-var-dtype {\n",
       "  grid-column: 3;\n",
       "  text-align: right;\n",
       "  color: var(--xr-font-color2);\n",
       "}\n",
       "\n",
       ".xr-var-preview {\n",
       "  grid-column: 4;\n",
       "}\n",
       "\n",
       ".xr-var-name,\n",
       ".xr-var-dims,\n",
       ".xr-var-dtype,\n",
       ".xr-preview,\n",
       ".xr-attrs dt {\n",
       "  white-space: nowrap;\n",
       "  overflow: hidden;\n",
       "  text-overflow: ellipsis;\n",
       "  padding-right: 10px;\n",
       "}\n",
       "\n",
       ".xr-var-name:hover,\n",
       ".xr-var-dims:hover,\n",
       ".xr-var-dtype:hover,\n",
       ".xr-attrs dt:hover {\n",
       "  overflow: visible;\n",
       "  width: auto;\n",
       "  z-index: 1;\n",
       "}\n",
       "\n",
       ".xr-var-attrs,\n",
       ".xr-var-data {\n",
       "  display: none;\n",
       "  background-color: var(--xr-background-color) !important;\n",
       "  padding-bottom: 5px !important;\n",
       "}\n",
       "\n",
       ".xr-var-attrs-in:checked ~ .xr-var-attrs,\n",
       ".xr-var-data-in:checked ~ .xr-var-data {\n",
       "  display: block;\n",
       "}\n",
       "\n",
       ".xr-var-data > table {\n",
       "  float: right;\n",
       "}\n",
       "\n",
       ".xr-var-name span,\n",
       ".xr-var-data,\n",
       ".xr-attrs {\n",
       "  padding-left: 25px !important;\n",
       "}\n",
       "\n",
       ".xr-attrs,\n",
       ".xr-var-attrs,\n",
       ".xr-var-data {\n",
       "  grid-column: 1 / -1;\n",
       "}\n",
       "\n",
       "dl.xr-attrs {\n",
       "  padding: 0;\n",
       "  margin: 0;\n",
       "  display: grid;\n",
       "  grid-template-columns: 125px auto;\n",
       "}\n",
       "\n",
       ".xr-attrs dt,\n",
       ".xr-attrs dd {\n",
       "  padding: 0;\n",
       "  margin: 0;\n",
       "  float: left;\n",
       "  padding-right: 10px;\n",
       "  width: auto;\n",
       "}\n",
       "\n",
       ".xr-attrs dt {\n",
       "  font-weight: normal;\n",
       "  grid-column: 1;\n",
       "}\n",
       "\n",
       ".xr-attrs dt:hover span {\n",
       "  display: inline-block;\n",
       "  background: var(--xr-background-color);\n",
       "  padding-right: 10px;\n",
       "}\n",
       "\n",
       ".xr-attrs dd {\n",
       "  grid-column: 2;\n",
       "  white-space: pre-wrap;\n",
       "  word-break: break-all;\n",
       "}\n",
       "\n",
       ".xr-icon-database,\n",
       ".xr-icon-file-text2 {\n",
       "  display: inline-block;\n",
       "  vertical-align: middle;\n",
       "  width: 1em;\n",
       "  height: 1.5em !important;\n",
       "  stroke-width: 0;\n",
       "  stroke: currentColor;\n",
       "  fill: currentColor;\n",
       "}\n",
       "</style><pre class='xr-text-repr-fallback'>&lt;xarray.Dataset&gt;\n",
       "Dimensions:                  (tracks: 3607, times: 200, mergers: 200, nmaxpf: 3)\n",
       "Coordinates:\n",
       "  * tracks                   (tracks) int64 0 1 2 3 4 ... 3603 3604 3605 3606\n",
       "  * times                    (times) int64 0 1 2 3 4 5 ... 195 196 197 198 199\n",
       "  * mergers                  (mergers) int64 0 1 2 3 4 5 ... 195 196 197 198 199\n",
       "  * nmaxpf                   (nmaxpf) int64 0 1 2\n",
       "Data variables: (12/50)\n",
       "    track_duration           (tracks) int32 35 19 7 8 27 16 7 ... 7 7 6 5 5 5 5\n",
       "    start_status             (tracks) float64 2.0 15.0 15.0 ... 33.0 2.0 2.0\n",
       "    end_status               (tracks) float64 37.0 3.0 37.0 37.0 ... 0.0 0.0 0.0\n",
       "    start_basetime           (tracks) datetime64[ns] 2020-01-20T00:30:00.0000...\n",
       "    end_basetime             (tracks) datetime64[ns] 2020-01-21T10:30:00 ... ...\n",
       "    start_split_cloudnumber  (tracks) float64 nan nan nan nan ... 14.0 nan nan\n",
       "    ...                       ...\n",
       "    pf_landfrac              (tracks, times) float32 ...\n",
       "    total_rain               (tracks, times) float32 ...\n",
       "    total_heavyrain          (tracks, times) float32 ...\n",
       "    rainrate_heavyrain       (tracks, times) float32 ...\n",
       "    pf_lifetime              (tracks) float32 35.0 18.0 7.0 8.0 ... 5.0 5.0 5.0\n",
       "    pf_mcsstatus             (tracks, times) float64 ...\n",
       "Attributes: (12/22)\n",
       "    Title:                       Statistics of each MCS track\n",
       "    Institution:                 Pacific Northwest National Laboratory\n",
       "    Contact:                     Zhe Feng, zhe.feng@pnnl.gov\n",
       "    Created_on:                  Mon Dec  5 11:05:07 2022\n",
       "    startdate:                   20200120.0000\n",
       "    enddate:                     20200301.0000\n",
       "    ...                          ...\n",
       "    MCS_PF_duration_thresh:      4\n",
       "    PF_PF_min_majoraxis_thresh:  20\n",
       "    coefs_pf_area:               [1962    0]\n",
       "    coefs_pf_rr:                 [2.72873 0.     ]\n",
       "    coefs_pf_skew:               [0.036384 0.      ]\n",
       "    coefs_pf_heavyratio:         [0.75026 0.     ]</pre><div class='xr-wrap' style='display:none'><div class='xr-header'><div class='xr-obj-type'>xarray.Dataset</div></div><ul class='xr-sections'><li class='xr-section-item'><input id='section-bffc5325-c636-4e29-876f-bfba282fb0ba' class='xr-section-summary-in' type='checkbox' disabled ><label for='section-bffc5325-c636-4e29-876f-bfba282fb0ba' class='xr-section-summary'  title='Expand/collapse section'>Dimensions:</label><div class='xr-section-inline-details'><ul class='xr-dim-list'><li><span class='xr-has-index'>tracks</span>: 3607</li><li><span class='xr-has-index'>times</span>: 200</li><li><span class='xr-has-index'>mergers</span>: 200</li><li><span class='xr-has-index'>nmaxpf</span>: 3</li></ul></div><div class='xr-section-details'></div></li><li class='xr-section-item'><input id='section-47dda82f-d0f8-4fc9-a124-5853529ffca5' class='xr-section-summary-in' type='checkbox'  checked><label for='section-47dda82f-d0f8-4fc9-a124-5853529ffca5' class='xr-section-summary' >Coordinates: <span>(4)</span></label><div class='xr-section-inline-details'></div><div class='xr-section-details'><ul class='xr-var-list'><li class='xr-var-item'><div class='xr-var-name'><span class='xr-has-index'>tracks</span></div><div class='xr-var-dims'>(tracks)</div><div class='xr-var-dtype'>int64</div><div class='xr-var-preview xr-preview'>0 1 2 3 4 ... 3603 3604 3605 3606</div><input id='attrs-d16dd7c3-ecea-4c6c-b6ba-f244e35fdb41' class='xr-var-attrs-in' type='checkbox' disabled><label for='attrs-d16dd7c3-ecea-4c6c-b6ba-f244e35fdb41' title='Show/Hide attributes'><svg class='icon xr-icon-file-text2'><use xlink:href='#icon-file-text2'></use></svg></label><input id='data-319bcfe7-f466-4c25-80cb-823ab9d14fdf' class='xr-var-data-in' type='checkbox'><label for='data-319bcfe7-f466-4c25-80cb-823ab9d14fdf' title='Show/Hide data repr'><svg class='icon xr-icon-database'><use xlink:href='#icon-database'></use></svg></label><div class='xr-var-attrs'><dl class='xr-attrs'></dl></div><div class='xr-var-data'><pre>array([   0,    1,    2, ..., 3604, 3605, 3606])</pre></div></li><li class='xr-var-item'><div class='xr-var-name'><span class='xr-has-index'>times</span></div><div class='xr-var-dims'>(times)</div><div class='xr-var-dtype'>int64</div><div class='xr-var-preview xr-preview'>0 1 2 3 4 5 ... 195 196 197 198 199</div><input id='attrs-d93480c7-b3dd-4d64-877a-cd90988db9ac' class='xr-var-attrs-in' type='checkbox' disabled><label for='attrs-d93480c7-b3dd-4d64-877a-cd90988db9ac' title='Show/Hide attributes'><svg class='icon xr-icon-file-text2'><use xlink:href='#icon-file-text2'></use></svg></label><input id='data-50f7b1f2-1624-4d50-8304-9328b55a759c' class='xr-var-data-in' type='checkbox'><label for='data-50f7b1f2-1624-4d50-8304-9328b55a759c' title='Show/Hide data repr'><svg class='icon xr-icon-database'><use xlink:href='#icon-database'></use></svg></label><div class='xr-var-attrs'><dl class='xr-attrs'></dl></div><div class='xr-var-data'><pre>array([  0,   1,   2,   3,   4,   5,   6,   7,   8,   9,  10,  11,  12,  13,\n",
       "        14,  15,  16,  17,  18,  19,  20,  21,  22,  23,  24,  25,  26,  27,\n",
       "        28,  29,  30,  31,  32,  33,  34,  35,  36,  37,  38,  39,  40,  41,\n",
       "        42,  43,  44,  45,  46,  47,  48,  49,  50,  51,  52,  53,  54,  55,\n",
       "        56,  57,  58,  59,  60,  61,  62,  63,  64,  65,  66,  67,  68,  69,\n",
       "        70,  71,  72,  73,  74,  75,  76,  77,  78,  79,  80,  81,  82,  83,\n",
       "        84,  85,  86,  87,  88,  89,  90,  91,  92,  93,  94,  95,  96,  97,\n",
       "        98,  99, 100, 101, 102, 103, 104, 105, 106, 107, 108, 109, 110, 111,\n",
       "       112, 113, 114, 115, 116, 117, 118, 119, 120, 121, 122, 123, 124, 125,\n",
       "       126, 127, 128, 129, 130, 131, 132, 133, 134, 135, 136, 137, 138, 139,\n",
       "       140, 141, 142, 143, 144, 145, 146, 147, 148, 149, 150, 151, 152, 153,\n",
       "       154, 155, 156, 157, 158, 159, 160, 161, 162, 163, 164, 165, 166, 167,\n",
       "       168, 169, 170, 171, 172, 173, 174, 175, 176, 177, 178, 179, 180, 181,\n",
       "       182, 183, 184, 185, 186, 187, 188, 189, 190, 191, 192, 193, 194, 195,\n",
       "       196, 197, 198, 199])</pre></div></li><li class='xr-var-item'><div class='xr-var-name'><span class='xr-has-index'>mergers</span></div><div class='xr-var-dims'>(mergers)</div><div class='xr-var-dtype'>int64</div><div class='xr-var-preview xr-preview'>0 1 2 3 4 5 ... 195 196 197 198 199</div><input id='attrs-fd7171b3-0656-455d-87c3-305c1f1e22ed' class='xr-var-attrs-in' type='checkbox' disabled><label for='attrs-fd7171b3-0656-455d-87c3-305c1f1e22ed' title='Show/Hide attributes'><svg class='icon xr-icon-file-text2'><use xlink:href='#icon-file-text2'></use></svg></label><input id='data-dbe7d6cb-63c2-4970-a99e-02b01a16443d' class='xr-var-data-in' type='checkbox'><label for='data-dbe7d6cb-63c2-4970-a99e-02b01a16443d' title='Show/Hide data repr'><svg class='icon xr-icon-database'><use xlink:href='#icon-database'></use></svg></label><div class='xr-var-attrs'><dl class='xr-attrs'></dl></div><div class='xr-var-data'><pre>array([  0,   1,   2,   3,   4,   5,   6,   7,   8,   9,  10,  11,  12,  13,\n",
       "        14,  15,  16,  17,  18,  19,  20,  21,  22,  23,  24,  25,  26,  27,\n",
       "        28,  29,  30,  31,  32,  33,  34,  35,  36,  37,  38,  39,  40,  41,\n",
       "        42,  43,  44,  45,  46,  47,  48,  49,  50,  51,  52,  53,  54,  55,\n",
       "        56,  57,  58,  59,  60,  61,  62,  63,  64,  65,  66,  67,  68,  69,\n",
       "        70,  71,  72,  73,  74,  75,  76,  77,  78,  79,  80,  81,  82,  83,\n",
       "        84,  85,  86,  87,  88,  89,  90,  91,  92,  93,  94,  95,  96,  97,\n",
       "        98,  99, 100, 101, 102, 103, 104, 105, 106, 107, 108, 109, 110, 111,\n",
       "       112, 113, 114, 115, 116, 117, 118, 119, 120, 121, 122, 123, 124, 125,\n",
       "       126, 127, 128, 129, 130, 131, 132, 133, 134, 135, 136, 137, 138, 139,\n",
       "       140, 141, 142, 143, 144, 145, 146, 147, 148, 149, 150, 151, 152, 153,\n",
       "       154, 155, 156, 157, 158, 159, 160, 161, 162, 163, 164, 165, 166, 167,\n",
       "       168, 169, 170, 171, 172, 173, 174, 175, 176, 177, 178, 179, 180, 181,\n",
       "       182, 183, 184, 185, 186, 187, 188, 189, 190, 191, 192, 193, 194, 195,\n",
       "       196, 197, 198, 199])</pre></div></li><li class='xr-var-item'><div class='xr-var-name'><span class='xr-has-index'>nmaxpf</span></div><div class='xr-var-dims'>(nmaxpf)</div><div class='xr-var-dtype'>int64</div><div class='xr-var-preview xr-preview'>0 1 2</div><input id='attrs-2bc68365-2c49-457f-b44c-b6e22b17f7dc' class='xr-var-attrs-in' type='checkbox' disabled><label for='attrs-2bc68365-2c49-457f-b44c-b6e22b17f7dc' title='Show/Hide attributes'><svg class='icon xr-icon-file-text2'><use xlink:href='#icon-file-text2'></use></svg></label><input id='data-9be8443f-44fa-4f61-978e-85336e26a272' class='xr-var-data-in' type='checkbox'><label for='data-9be8443f-44fa-4f61-978e-85336e26a272' title='Show/Hide data repr'><svg class='icon xr-icon-database'><use xlink:href='#icon-database'></use></svg></label><div class='xr-var-attrs'><dl class='xr-attrs'></dl></div><div class='xr-var-data'><pre>array([0, 1, 2])</pre></div></li></ul></div></li><li class='xr-section-item'><input id='section-63a2ef44-dc22-401c-bd36-2ca70586b9f3' class='xr-section-summary-in' type='checkbox'  ><label for='section-63a2ef44-dc22-401c-bd36-2ca70586b9f3' class='xr-section-summary' >Data variables: <span>(50)</span></label><div class='xr-section-inline-details'></div><div class='xr-section-details'><ul class='xr-var-list'><li class='xr-var-item'><div class='xr-var-name'><span>track_duration</span></div><div class='xr-var-dims'>(tracks)</div><div class='xr-var-dtype'>int32</div><div class='xr-var-preview xr-preview'>...</div><input id='attrs-829bc322-2d6c-437c-a1df-d7e4f036103b' class='xr-var-attrs-in' type='checkbox' ><label for='attrs-829bc322-2d6c-437c-a1df-d7e4f036103b' title='Show/Hide attributes'><svg class='icon xr-icon-file-text2'><use xlink:href='#icon-file-text2'></use></svg></label><input id='data-7f656746-9405-42fb-a884-fcf982814497' class='xr-var-data-in' type='checkbox'><label for='data-7f656746-9405-42fb-a884-fcf982814497' title='Show/Hide data repr'><svg class='icon xr-icon-database'><use xlink:href='#icon-database'></use></svg></label><div class='xr-var-attrs'><dl class='xr-attrs'><dt><span>long_name :</span></dt><dd>Duration of each track</dd><dt><span>units :</span></dt><dd>unitless</dd><dt><span>comments :</span></dt><dd>Multiply by time_resolution_hour to convert to physical units</dd></dl></div><div class='xr-var-data'><pre>array([35, 19,  7, ...,  5,  5,  5], dtype=int32)</pre></div></li><li class='xr-var-item'><div class='xr-var-name'><span>start_status</span></div><div class='xr-var-dims'>(tracks)</div><div class='xr-var-dtype'>float64</div><div class='xr-var-preview xr-preview'>...</div><input id='attrs-5e0ad378-e466-4b65-ad84-a5b6e561b4d6' class='xr-var-attrs-in' type='checkbox' ><label for='attrs-5e0ad378-e466-4b65-ad84-a5b6e561b4d6' title='Show/Hide attributes'><svg class='icon xr-icon-file-text2'><use xlink:href='#icon-file-text2'></use></svg></label><input id='data-c5810bd0-82cb-4ff7-a69c-b6fc2cabe336' class='xr-var-data-in' type='checkbox'><label for='data-c5810bd0-82cb-4ff7-a69c-b6fc2cabe336' title='Show/Hide data repr'><svg class='icon xr-icon-database'><use xlink:href='#icon-database'></use></svg></label><div class='xr-var-attrs'><dl class='xr-attrs'><dt><span>long_name :</span></dt><dd>Flag indicating how the track starts</dd><dt><span>units :</span></dt><dd>unitless</dd><dt><span>comments :</span></dt><dd>Refer to track_status attributes on flag value meaning</dd></dl></div><div class='xr-var-data'><pre>array([ 2., 15., 15., ..., 33.,  2.,  2.])</pre></div></li><li class='xr-var-item'><div class='xr-var-name'><span>end_status</span></div><div class='xr-var-dims'>(tracks)</div><div class='xr-var-dtype'>float64</div><div class='xr-var-preview xr-preview'>...</div><input id='attrs-695e6eeb-fb13-4497-b935-617a170eb7f1' class='xr-var-attrs-in' type='checkbox' ><label for='attrs-695e6eeb-fb13-4497-b935-617a170eb7f1' title='Show/Hide attributes'><svg class='icon xr-icon-file-text2'><use xlink:href='#icon-file-text2'></use></svg></label><input id='data-0b6d681e-5d36-40c6-9377-ee5ace5803ea' class='xr-var-data-in' type='checkbox'><label for='data-0b6d681e-5d36-40c6-9377-ee5ace5803ea' title='Show/Hide data repr'><svg class='icon xr-icon-database'><use xlink:href='#icon-database'></use></svg></label><div class='xr-var-attrs'><dl class='xr-attrs'><dt><span>long_name :</span></dt><dd>Flag indicating how the track ends</dd><dt><span>units :</span></dt><dd>unitless</dd><dt><span>comments :</span></dt><dd>Refer to track_status attributes on flag value meaning</dd></dl></div><div class='xr-var-data'><pre>array([37.,  3., 37., ...,  0.,  0.,  0.])</pre></div></li><li class='xr-var-item'><div class='xr-var-name'><span>start_basetime</span></div><div class='xr-var-dims'>(tracks)</div><div class='xr-var-dtype'>datetime64[ns]</div><div class='xr-var-preview xr-preview'>...</div><input id='attrs-1a7c6f25-9f48-4772-a90e-5157d61ba07c' class='xr-var-attrs-in' type='checkbox' ><label for='attrs-1a7c6f25-9f48-4772-a90e-5157d61ba07c' title='Show/Hide attributes'><svg class='icon xr-icon-file-text2'><use xlink:href='#icon-file-text2'></use></svg></label><input id='data-882584c4-9b1d-4fc3-9dfa-1b687476cf30' class='xr-var-data-in' type='checkbox'><label for='data-882584c4-9b1d-4fc3-9dfa-1b687476cf30' title='Show/Hide data repr'><svg class='icon xr-icon-database'><use xlink:href='#icon-database'></use></svg></label><div class='xr-var-attrs'><dl class='xr-attrs'><dt><span>long_name :</span></dt><dd>Start Epoch time of each track</dd></dl></div><div class='xr-var-data'><pre>array([&#x27;2020-01-20T00:30:00.000013312&#x27;, &#x27;2020-01-20T00:30:00.000013312&#x27;,\n",
       "       &#x27;2020-01-20T00:30:00.000013312&#x27;, ..., &#x27;2020-02-28T18:30:00.000013312&#x27;,\n",
       "       &#x27;2020-02-28T18:30:00.000013312&#x27;, &#x27;2020-02-28T18:30:00.000013312&#x27;],\n",
       "      dtype=&#x27;datetime64[ns]&#x27;)</pre></div></li><li class='xr-var-item'><div class='xr-var-name'><span>end_basetime</span></div><div class='xr-var-dims'>(tracks)</div><div class='xr-var-dtype'>datetime64[ns]</div><div class='xr-var-preview xr-preview'>...</div><input id='attrs-e4b01388-3a85-4e43-bf3f-472836718159' class='xr-var-attrs-in' type='checkbox' ><label for='attrs-e4b01388-3a85-4e43-bf3f-472836718159' title='Show/Hide attributes'><svg class='icon xr-icon-file-text2'><use xlink:href='#icon-file-text2'></use></svg></label><input id='data-09c4496a-89a5-419b-975f-537086075c4a' class='xr-var-data-in' type='checkbox'><label for='data-09c4496a-89a5-419b-975f-537086075c4a' title='Show/Hide data repr'><svg class='icon xr-icon-database'><use xlink:href='#icon-database'></use></svg></label><div class='xr-var-attrs'><dl class='xr-attrs'><dt><span>long_name :</span></dt><dd>End Epoch time of each track</dd></dl></div><div class='xr-var-data'><pre>array([&#x27;2020-01-21T10:30:00.000000000&#x27;, &#x27;2020-01-20T18:30:00.000013312&#x27;,\n",
       "       &#x27;2020-01-20T06:30:00.000013312&#x27;, ..., &#x27;2020-02-28T22:30:00.000000000&#x27;,\n",
       "       &#x27;2020-02-28T22:30:00.000000000&#x27;, &#x27;2020-02-28T22:30:00.000000000&#x27;],\n",
       "      dtype=&#x27;datetime64[ns]&#x27;)</pre></div></li><li class='xr-var-item'><div class='xr-var-name'><span>start_split_cloudnumber</span></div><div class='xr-var-dims'>(tracks)</div><div class='xr-var-dtype'>float64</div><div class='xr-var-preview xr-preview'>...</div><input id='attrs-5385e541-2fcb-40a8-ac22-1e15fda00bf3' class='xr-var-attrs-in' type='checkbox' ><label for='attrs-5385e541-2fcb-40a8-ac22-1e15fda00bf3' title='Show/Hide attributes'><svg class='icon xr-icon-file-text2'><use xlink:href='#icon-file-text2'></use></svg></label><input id='data-1e40cbb1-7837-45f1-a0b0-d5404f70c0f3' class='xr-var-data-in' type='checkbox'><label for='data-1e40cbb1-7837-45f1-a0b0-d5404f70c0f3' title='Show/Hide data repr'><svg class='icon xr-icon-database'><use xlink:href='#icon-database'></use></svg></label><div class='xr-var-attrs'><dl class='xr-attrs'><dt><span>long_name :</span></dt><dd>Cloud number where this track splits from</dd><dt><span>units :</span></dt><dd>unitless</dd></dl></div><div class='xr-var-data'><pre>array([nan, nan, nan, ..., 14., nan, nan])</pre></div></li><li class='xr-var-item'><div class='xr-var-name'><span>end_merge_cloudnumber</span></div><div class='xr-var-dims'>(tracks)</div><div class='xr-var-dtype'>float64</div><div class='xr-var-preview xr-preview'>...</div><input id='attrs-505d7733-8ddd-45dd-887d-97f3bf546e79' class='xr-var-attrs-in' type='checkbox' ><label for='attrs-505d7733-8ddd-45dd-887d-97f3bf546e79' title='Show/Hide attributes'><svg class='icon xr-icon-file-text2'><use xlink:href='#icon-file-text2'></use></svg></label><input id='data-b72a5ad5-76b2-4b3e-9e5c-23d8538cc7e3' class='xr-var-data-in' type='checkbox'><label for='data-b72a5ad5-76b2-4b3e-9e5c-23d8538cc7e3' title='Show/Hide data repr'><svg class='icon xr-icon-database'><use xlink:href='#icon-database'></use></svg></label><div class='xr-var-attrs'><dl class='xr-attrs'><dt><span>long_name :</span></dt><dd>Cloud number where this track merges with</dd><dt><span>units :</span></dt><dd>unitless</dd></dl></div><div class='xr-var-data'><pre>array([ 2., nan,  5., ..., nan, nan, nan])</pre></div></li><li class='xr-var-item'><div class='xr-var-name'><span>base_time</span></div><div class='xr-var-dims'>(tracks, times)</div><div class='xr-var-dtype'>datetime64[ns]</div><div class='xr-var-preview xr-preview'>...</div><input id='attrs-02e654a4-97a8-4a43-b108-0d9cfc91b301' class='xr-var-attrs-in' type='checkbox' ><label for='attrs-02e654a4-97a8-4a43-b108-0d9cfc91b301' title='Show/Hide attributes'><svg class='icon xr-icon-file-text2'><use xlink:href='#icon-file-text2'></use></svg></label><input id='data-a534cbb5-c487-46df-aac7-0f6c23d266eb' class='xr-var-data-in' type='checkbox'><label for='data-a534cbb5-c487-46df-aac7-0f6c23d266eb' title='Show/Hide data repr'><svg class='icon xr-icon-database'><use xlink:href='#icon-database'></use></svg></label><div class='xr-var-attrs'><dl class='xr-attrs'><dt><span>long_name :</span></dt><dd>Epoch time of a feature</dd></dl></div><div class='xr-var-data'><pre>[721400 values with dtype=datetime64[ns]]</pre></div></li><li class='xr-var-item'><div class='xr-var-name'><span>meanlat</span></div><div class='xr-var-dims'>(tracks, times)</div><div class='xr-var-dtype'>float32</div><div class='xr-var-preview xr-preview'>...</div><input id='attrs-3abc91ee-c3a1-4fc2-8027-da2fe5098846' class='xr-var-attrs-in' type='checkbox' ><label for='attrs-3abc91ee-c3a1-4fc2-8027-da2fe5098846' title='Show/Hide attributes'><svg class='icon xr-icon-file-text2'><use xlink:href='#icon-file-text2'></use></svg></label><input id='data-577ae0e6-d405-447b-a76d-5da45edb02f0' class='xr-var-data-in' type='checkbox'><label for='data-577ae0e6-d405-447b-a76d-5da45edb02f0' title='Show/Hide data repr'><svg class='icon xr-icon-database'><use xlink:href='#icon-database'></use></svg></label><div class='xr-var-attrs'><dl class='xr-attrs'><dt><span>long_name :</span></dt><dd>Mean latitude of a feature</dd><dt><span>units :</span></dt><dd>degrees_north</dd></dl></div><div class='xr-var-data'><pre>[721400 values with dtype=float32]</pre></div></li><li class='xr-var-item'><div class='xr-var-name'><span>meanlon</span></div><div class='xr-var-dims'>(tracks, times)</div><div class='xr-var-dtype'>float32</div><div class='xr-var-preview xr-preview'>...</div><input id='attrs-7e3866cd-7452-4003-a333-f1ab29f9eb12' class='xr-var-attrs-in' type='checkbox' ><label for='attrs-7e3866cd-7452-4003-a333-f1ab29f9eb12' title='Show/Hide attributes'><svg class='icon xr-icon-file-text2'><use xlink:href='#icon-file-text2'></use></svg></label><input id='data-a6f83f88-c46a-41fb-9beb-b57ebb3120f8' class='xr-var-data-in' type='checkbox'><label for='data-a6f83f88-c46a-41fb-9beb-b57ebb3120f8' title='Show/Hide data repr'><svg class='icon xr-icon-database'><use xlink:href='#icon-database'></use></svg></label><div class='xr-var-attrs'><dl class='xr-attrs'><dt><span>long_name :</span></dt><dd>Mean longitude of a feature</dd><dt><span>units :</span></dt><dd>degrees_east</dd></dl></div><div class='xr-var-data'><pre>[721400 values with dtype=float32]</pre></div></li><li class='xr-var-item'><div class='xr-var-name'><span>area</span></div><div class='xr-var-dims'>(tracks, times)</div><div class='xr-var-dtype'>float32</div><div class='xr-var-preview xr-preview'>...</div><input id='attrs-d3c2dfdb-2451-4abc-8dd4-8a524cb41e31' class='xr-var-attrs-in' type='checkbox' ><label for='attrs-d3c2dfdb-2451-4abc-8dd4-8a524cb41e31' title='Show/Hide attributes'><svg class='icon xr-icon-file-text2'><use xlink:href='#icon-file-text2'></use></svg></label><input id='data-fa3325c3-af11-40d5-bb02-3d439a171245' class='xr-var-data-in' type='checkbox'><label for='data-fa3325c3-af11-40d5-bb02-3d439a171245' title='Show/Hide data repr'><svg class='icon xr-icon-database'><use xlink:href='#icon-database'></use></svg></label><div class='xr-var-attrs'><dl class='xr-attrs'><dt><span>long_name :</span></dt><dd>Area of a feature</dd><dt><span>units :</span></dt><dd>km^2</dd></dl></div><div class='xr-var-data'><pre>[721400 values with dtype=float32]</pre></div></li><li class='xr-var-item'><div class='xr-var-name'><span>cloudnumber</span></div><div class='xr-var-dims'>(tracks, times)</div><div class='xr-var-dtype'>float64</div><div class='xr-var-preview xr-preview'>...</div><input id='attrs-326ebde2-0e93-48e8-a700-03682d8c4df6' class='xr-var-attrs-in' type='checkbox' ><label for='attrs-326ebde2-0e93-48e8-a700-03682d8c4df6' title='Show/Hide attributes'><svg class='icon xr-icon-file-text2'><use xlink:href='#icon-file-text2'></use></svg></label><input id='data-b442f796-0d62-4f7c-b145-56ea90e9b613' class='xr-var-data-in' type='checkbox'><label for='data-b442f796-0d62-4f7c-b145-56ea90e9b613' title='Show/Hide data repr'><svg class='icon xr-icon-database'><use xlink:href='#icon-database'></use></svg></label><div class='xr-var-attrs'><dl class='xr-attrs'><dt><span>long_name :</span></dt><dd>Corresponding cloud number in cloudid file</dd><dt><span>units :</span></dt><dd>unitless</dd></dl></div><div class='xr-var-data'><pre>[721400 values with dtype=float64]</pre></div></li><li class='xr-var-item'><div class='xr-var-name'><span>track_status</span></div><div class='xr-var-dims'>(tracks, times)</div><div class='xr-var-dtype'>float64</div><div class='xr-var-preview xr-preview'>...</div><input id='attrs-d6fdce78-a3eb-4063-8757-4f19d6ab393e' class='xr-var-attrs-in' type='checkbox' ><label for='attrs-d6fdce78-a3eb-4063-8757-4f19d6ab393e' title='Show/Hide attributes'><svg class='icon xr-icon-file-text2'><use xlink:href='#icon-file-text2'></use></svg></label><input id='data-961bd385-373a-47b8-b68a-5c832d14d817' class='xr-var-data-in' type='checkbox'><label for='data-961bd385-373a-47b8-b68a-5c832d14d817' title='Show/Hide data repr'><svg class='icon xr-icon-database'><use xlink:href='#icon-database'></use></svg></label><div class='xr-var-attrs'><dl class='xr-attrs'><dt><span>long_name :</span></dt><dd>Flag indicating the status of a track</dd><dt><span>units :</span></dt><dd>unitless</dd><dt><span>comments :</span></dt><dd>0: Track stops;  1: Simple track continuation;  2: This is the bigger cloud in simple merger;  3: This is the bigger cloud from a simple split that stops at this time;  4: This is the bigger cloud from a split and this cloud continues to the next time;  5: This is the bigger cloud from a split that subsequently is the big cloud in a merger;  13: This cloud splits at the next time step;  15: This cloud is the bigger cloud in a merge that then splits at the next time step;  16: This is the bigger cloud in a split that then splits at the next time step;  18: Merge-split at same time (big merge, splitter, and big split);  21: This is the smaller cloud in a simple merger;  24: This is the bigger cloud of a split that is then the small cloud in a merger;  31: This is the smaller cloud in a simple split that stops;  32: This is a small split that continues onto the next time step;  33: This is a small split that then is the bigger cloud in a merger;  34: This is the small cloud in a merger that then splits at the next time step;  37: Merge-split at same time (small merge, splitter, big split);  44: This is the smaller cloud in a split that is smaller cloud in a merger at the next time step;  46: Merge-split at same time (big merge, splitter, small split);  52: This is the smaller cloud in a split that is smaller cloud in a merger at the next time step;  65: Merge-split at same time (smaller merge, splitter, small split)</dd></dl></div><div class='xr-var-data'><pre>[721400 values with dtype=float64]</pre></div></li><li class='xr-var-item'><div class='xr-var-name'><span>track_interruptions</span></div><div class='xr-var-dims'>(tracks, times)</div><div class='xr-var-dtype'>float64</div><div class='xr-var-preview xr-preview'>...</div><input id='attrs-e22a0336-8859-43b2-be3f-97d5bbccdc11' class='xr-var-attrs-in' type='checkbox' ><label for='attrs-e22a0336-8859-43b2-be3f-97d5bbccdc11' title='Show/Hide attributes'><svg class='icon xr-icon-file-text2'><use xlink:href='#icon-file-text2'></use></svg></label><input id='data-074858a7-7530-459c-8ea1-56ba2aa02ed9' class='xr-var-data-in' type='checkbox'><label for='data-074858a7-7530-459c-8ea1-56ba2aa02ed9' title='Show/Hide data repr'><svg class='icon xr-icon-database'><use xlink:href='#icon-database'></use></svg></label><div class='xr-var-attrs'><dl class='xr-attrs'><dt><span>long_name :</span></dt><dd>0 = full track available, good data. 1 = track starts at first file, track cut short by data availability. 2 = track ends at last file, track cut short by data availability</dd><dt><span>units :</span></dt><dd>unitless</dd></dl></div><div class='xr-var-data'><pre>[721400 values with dtype=float64]</pre></div></li><li class='xr-var-item'><div class='xr-var-name'><span>core_area</span></div><div class='xr-var-dims'>(tracks, times)</div><div class='xr-var-dtype'>float32</div><div class='xr-var-preview xr-preview'>...</div><input id='attrs-b19ccb8e-4f57-49df-b79d-ebfcba98ed31' class='xr-var-attrs-in' type='checkbox' ><label for='attrs-b19ccb8e-4f57-49df-b79d-ebfcba98ed31' title='Show/Hide attributes'><svg class='icon xr-icon-file-text2'><use xlink:href='#icon-file-text2'></use></svg></label><input id='data-ac565a17-6888-4452-88f0-be94abff5266' class='xr-var-data-in' type='checkbox'><label for='data-ac565a17-6888-4452-88f0-be94abff5266' title='Show/Hide data repr'><svg class='icon xr-icon-database'><use xlink:href='#icon-database'></use></svg></label><div class='xr-var-attrs'><dl class='xr-attrs'><dt><span>long_name :</span></dt><dd>Area of cold core</dd><dt><span>units :</span></dt><dd>km^2</dd></dl></div><div class='xr-var-data'><pre>[721400 values with dtype=float32]</pre></div></li><li class='xr-var-item'><div class='xr-var-name'><span>cold_area</span></div><div class='xr-var-dims'>(tracks, times)</div><div class='xr-var-dtype'>float32</div><div class='xr-var-preview xr-preview'>...</div><input id='attrs-e2867b6e-dc27-42e4-b284-29bd8efee3d9' class='xr-var-attrs-in' type='checkbox' ><label for='attrs-e2867b6e-dc27-42e4-b284-29bd8efee3d9' title='Show/Hide attributes'><svg class='icon xr-icon-file-text2'><use xlink:href='#icon-file-text2'></use></svg></label><input id='data-35303de7-58ee-4bab-84df-e5ed0332df0f' class='xr-var-data-in' type='checkbox'><label for='data-35303de7-58ee-4bab-84df-e5ed0332df0f' title='Show/Hide data repr'><svg class='icon xr-icon-database'><use xlink:href='#icon-database'></use></svg></label><div class='xr-var-attrs'><dl class='xr-attrs'><dt><span>long_name :</span></dt><dd>Area of cold anvil</dd><dt><span>units :</span></dt><dd>km^2</dd></dl></div><div class='xr-var-data'><pre>[721400 values with dtype=float32]</pre></div></li><li class='xr-var-item'><div class='xr-var-name'><span>corecold_mintb</span></div><div class='xr-var-dims'>(tracks, times)</div><div class='xr-var-dtype'>float32</div><div class='xr-var-preview xr-preview'>...</div><input id='attrs-0ba1138f-bcba-4613-91ad-bd7c4136185a' class='xr-var-attrs-in' type='checkbox' ><label for='attrs-0ba1138f-bcba-4613-91ad-bd7c4136185a' title='Show/Hide attributes'><svg class='icon xr-icon-file-text2'><use xlink:href='#icon-file-text2'></use></svg></label><input id='data-c1fc2a92-94bc-4cfc-8139-5265e8994154' class='xr-var-data-in' type='checkbox'><label for='data-c1fc2a92-94bc-4cfc-8139-5265e8994154' title='Show/Hide data repr'><svg class='icon xr-icon-database'><use xlink:href='#icon-database'></use></svg></label><div class='xr-var-attrs'><dl class='xr-attrs'><dt><span>long_name :</span></dt><dd>Minimum Tb in cold core + cold anvil area</dd><dt><span>units :</span></dt><dd>K</dd></dl></div><div class='xr-var-data'><pre>[721400 values with dtype=float32]</pre></div></li><li class='xr-var-item'><div class='xr-var-name'><span>corecold_meantb</span></div><div class='xr-var-dims'>(tracks, times)</div><div class='xr-var-dtype'>float32</div><div class='xr-var-preview xr-preview'>...</div><input id='attrs-d189e71a-baa4-4fa4-b158-005302bee456' class='xr-var-attrs-in' type='checkbox' ><label for='attrs-d189e71a-baa4-4fa4-b158-005302bee456' title='Show/Hide attributes'><svg class='icon xr-icon-file-text2'><use xlink:href='#icon-file-text2'></use></svg></label><input id='data-8e752e03-276f-43e7-b143-11b300243001' class='xr-var-data-in' type='checkbox'><label for='data-8e752e03-276f-43e7-b143-11b300243001' title='Show/Hide data repr'><svg class='icon xr-icon-database'><use xlink:href='#icon-database'></use></svg></label><div class='xr-var-attrs'><dl class='xr-attrs'><dt><span>long_name :</span></dt><dd>Mean Tb in cold core + cold anvil area</dd><dt><span>units :</span></dt><dd>K</dd></dl></div><div class='xr-var-data'><pre>[721400 values with dtype=float32]</pre></div></li><li class='xr-var-item'><div class='xr-var-name'><span>core_meantb</span></div><div class='xr-var-dims'>(tracks, times)</div><div class='xr-var-dtype'>float32</div><div class='xr-var-preview xr-preview'>...</div><input id='attrs-757712fd-900f-4720-bebb-ba7b352066ac' class='xr-var-attrs-in' type='checkbox' ><label for='attrs-757712fd-900f-4720-bebb-ba7b352066ac' title='Show/Hide attributes'><svg class='icon xr-icon-file-text2'><use xlink:href='#icon-file-text2'></use></svg></label><input id='data-877379b9-df8d-4f66-b7d4-d9d6710982f6' class='xr-var-data-in' type='checkbox'><label for='data-877379b9-df8d-4f66-b7d4-d9d6710982f6' title='Show/Hide data repr'><svg class='icon xr-icon-database'><use xlink:href='#icon-database'></use></svg></label><div class='xr-var-attrs'><dl class='xr-attrs'><dt><span>long_name :</span></dt><dd>Mean Tb in cold core area</dd><dt><span>units :</span></dt><dd>K</dd></dl></div><div class='xr-var-data'><pre>[721400 values with dtype=float32]</pre></div></li><li class='xr-var-item'><div class='xr-var-name'><span>mcs_duration</span></div><div class='xr-var-dims'>(tracks)</div><div class='xr-var-dtype'>int64</div><div class='xr-var-preview xr-preview'>...</div><input id='attrs-0118d821-d7b5-4f4b-9e2b-0ec0bd9400fa' class='xr-var-attrs-in' type='checkbox' ><label for='attrs-0118d821-d7b5-4f4b-9e2b-0ec0bd9400fa' title='Show/Hide attributes'><svg class='icon xr-icon-file-text2'><use xlink:href='#icon-file-text2'></use></svg></label><input id='data-df660cce-3d11-4d0b-8931-c1f71d22647e' class='xr-var-data-in' type='checkbox'><label for='data-df660cce-3d11-4d0b-8931-c1f71d22647e' title='Show/Hide data repr'><svg class='icon xr-icon-database'><use xlink:href='#icon-database'></use></svg></label><div class='xr-var-attrs'><dl class='xr-attrs'><dt><span>long_name :</span></dt><dd>Duration of MCS stage</dd><dt><span>units :</span></dt><dd>unitless</dd><dt><span>comments :</span></dt><dd>Multiply by time_resolution_hour to convert to physical units</dd></dl></div><div class='xr-var-data'><pre>array([35, 18,  7, ...,  5,  5,  5])</pre></div></li><li class='xr-var-item'><div class='xr-var-name'><span>mcs_status</span></div><div class='xr-var-dims'>(tracks, times)</div><div class='xr-var-dtype'>float32</div><div class='xr-var-preview xr-preview'>...</div><input id='attrs-30ed69dc-1b1f-4c17-9b70-76ec6ec49d21' class='xr-var-attrs-in' type='checkbox' ><label for='attrs-30ed69dc-1b1f-4c17-9b70-76ec6ec49d21' title='Show/Hide attributes'><svg class='icon xr-icon-file-text2'><use xlink:href='#icon-file-text2'></use></svg></label><input id='data-6695480f-ba34-4e0e-84e0-319a648676b1' class='xr-var-data-in' type='checkbox'><label for='data-6695480f-ba34-4e0e-84e0-319a648676b1' title='Show/Hide data repr'><svg class='icon xr-icon-database'><use xlink:href='#icon-database'></use></svg></label><div class='xr-var-attrs'><dl class='xr-attrs'><dt><span>long_name :</span></dt><dd>Flag indicating the status of MCS based on Tb. 1 = Yes, 0 = No</dd><dt><span>units :</span></dt><dd>unitless</dd></dl></div><div class='xr-var-data'><pre>[721400 values with dtype=float32]</pre></div></li><li class='xr-var-item'><div class='xr-var-name'><span>ccs_area</span></div><div class='xr-var-dims'>(tracks, times)</div><div class='xr-var-dtype'>float32</div><div class='xr-var-preview xr-preview'>...</div><input id='attrs-ac625c05-08e9-457a-a85a-eccbff2742d1' class='xr-var-attrs-in' type='checkbox' ><label for='attrs-ac625c05-08e9-457a-a85a-eccbff2742d1' title='Show/Hide attributes'><svg class='icon xr-icon-file-text2'><use xlink:href='#icon-file-text2'></use></svg></label><input id='data-012a3604-c637-4566-a3ba-eb396a3dc7fd' class='xr-var-data-in' type='checkbox'><label for='data-012a3604-c637-4566-a3ba-eb396a3dc7fd' title='Show/Hide data repr'><svg class='icon xr-icon-database'><use xlink:href='#icon-database'></use></svg></label><div class='xr-var-attrs'><dl class='xr-attrs'><dt><span>long_name :</span></dt><dd>Area of cold cloud shield</dd><dt><span>units :</span></dt><dd>km^2</dd></dl></div><div class='xr-var-data'><pre>[721400 values with dtype=float32]</pre></div></li><li class='xr-var-item'><div class='xr-var-name'><span>merge_cloudnumber</span></div><div class='xr-var-dims'>(tracks, times, mergers)</div><div class='xr-var-dtype'>float64</div><div class='xr-var-preview xr-preview'>...</div><input id='attrs-c26c4b51-f82e-4fad-8a00-2c53f5255855' class='xr-var-attrs-in' type='checkbox' ><label for='attrs-c26c4b51-f82e-4fad-8a00-2c53f5255855' title='Show/Hide attributes'><svg class='icon xr-icon-file-text2'><use xlink:href='#icon-file-text2'></use></svg></label><input id='data-dd96ba2d-2c45-4a25-a44b-2279160b3fd3' class='xr-var-data-in' type='checkbox'><label for='data-dd96ba2d-2c45-4a25-a44b-2279160b3fd3' title='Show/Hide data repr'><svg class='icon xr-icon-database'><use xlink:href='#icon-database'></use></svg></label><div class='xr-var-attrs'><dl class='xr-attrs'><dt><span>long_name :</span></dt><dd>Cloud numbers that merge into MCS</dd><dt><span>units :</span></dt><dd>unitless</dd></dl></div><div class='xr-var-data'><pre>[144280000 values with dtype=float64]</pre></div></li><li class='xr-var-item'><div class='xr-var-name'><span>split_cloudnumber</span></div><div class='xr-var-dims'>(tracks, times, mergers)</div><div class='xr-var-dtype'>float64</div><div class='xr-var-preview xr-preview'>...</div><input id='attrs-7c65f4ac-40d5-4424-bca3-32590fa4a6ac' class='xr-var-attrs-in' type='checkbox' ><label for='attrs-7c65f4ac-40d5-4424-bca3-32590fa4a6ac' title='Show/Hide attributes'><svg class='icon xr-icon-file-text2'><use xlink:href='#icon-file-text2'></use></svg></label><input id='data-d754e514-96fa-4d85-825f-b4b097f5a056' class='xr-var-data-in' type='checkbox'><label for='data-d754e514-96fa-4d85-825f-b4b097f5a056' title='Show/Hide data repr'><svg class='icon xr-icon-database'><use xlink:href='#icon-database'></use></svg></label><div class='xr-var-attrs'><dl class='xr-attrs'><dt><span>long_name :</span></dt><dd>Cloud numbers that split from MCS</dd><dt><span>units :</span></dt><dd>unitless</dd></dl></div><div class='xr-var-data'><pre>[144280000 values with dtype=float64]</pre></div></li><li class='xr-var-item'><div class='xr-var-name'><span>merge_ccs_area</span></div><div class='xr-var-dims'>(tracks, times, mergers)</div><div class='xr-var-dtype'>float32</div><div class='xr-var-preview xr-preview'>...</div><input id='attrs-b05e92f0-3414-42ef-87bc-d40ee6776f2b' class='xr-var-attrs-in' type='checkbox' ><label for='attrs-b05e92f0-3414-42ef-87bc-d40ee6776f2b' title='Show/Hide attributes'><svg class='icon xr-icon-file-text2'><use xlink:href='#icon-file-text2'></use></svg></label><input id='data-fa9f5aaa-0aac-41de-bef6-2e586af15b27' class='xr-var-data-in' type='checkbox'><label for='data-fa9f5aaa-0aac-41de-bef6-2e586af15b27' title='Show/Hide data repr'><svg class='icon xr-icon-database'><use xlink:href='#icon-database'></use></svg></label><div class='xr-var-attrs'><dl class='xr-attrs'><dt><span>long_name :</span></dt><dd>Cold cloud shield area that merge into MCS</dd><dt><span>units :</span></dt><dd>km^2</dd></dl></div><div class='xr-var-data'><pre>[144280000 values with dtype=float32]</pre></div></li><li class='xr-var-item'><div class='xr-var-name'><span>split_ccs_area</span></div><div class='xr-var-dims'>(tracks, times, mergers)</div><div class='xr-var-dtype'>float32</div><div class='xr-var-preview xr-preview'>...</div><input id='attrs-ef6c951e-12d5-4fcf-b915-65a3bda441a1' class='xr-var-attrs-in' type='checkbox' ><label for='attrs-ef6c951e-12d5-4fcf-b915-65a3bda441a1' title='Show/Hide attributes'><svg class='icon xr-icon-file-text2'><use xlink:href='#icon-file-text2'></use></svg></label><input id='data-deee9758-516f-4ee9-84e2-7877ab918249' class='xr-var-data-in' type='checkbox'><label for='data-deee9758-516f-4ee9-84e2-7877ab918249' title='Show/Hide data repr'><svg class='icon xr-icon-database'><use xlink:href='#icon-database'></use></svg></label><div class='xr-var-attrs'><dl class='xr-attrs'><dt><span>long_name :</span></dt><dd>Cold cloud shield area that split from MCS</dd><dt><span>units :</span></dt><dd>km^2</dd></dl></div><div class='xr-var-data'><pre>[144280000 values with dtype=float32]</pre></div></li><li class='xr-var-item'><div class='xr-var-name'><span>pf_npf</span></div><div class='xr-var-dims'>(tracks, times)</div><div class='xr-var-dtype'>float32</div><div class='xr-var-preview xr-preview'>...</div><input id='attrs-2aed68df-4b7b-49c3-8f75-3f6f67bc594d' class='xr-var-attrs-in' type='checkbox' ><label for='attrs-2aed68df-4b7b-49c3-8f75-3f6f67bc594d' title='Show/Hide attributes'><svg class='icon xr-icon-file-text2'><use xlink:href='#icon-file-text2'></use></svg></label><input id='data-45cbd4cf-91be-40de-bb8d-cf4b3b78ead0' class='xr-var-data-in' type='checkbox'><label for='data-45cbd4cf-91be-40de-bb8d-cf4b3b78ead0' title='Show/Hide data repr'><svg class='icon xr-icon-database'><use xlink:href='#icon-database'></use></svg></label><div class='xr-var-attrs'><dl class='xr-attrs'><dt><span>long_name :</span></dt><dd>Number of PF in the cloud</dd><dt><span>units :</span></dt><dd>unitless</dd></dl></div><div class='xr-var-data'><pre>[721400 values with dtype=float32]</pre></div></li><li class='xr-var-item'><div class='xr-var-name'><span>pf_lon</span></div><div class='xr-var-dims'>(tracks, times, nmaxpf)</div><div class='xr-var-dtype'>float32</div><div class='xr-var-preview xr-preview'>...</div><input id='attrs-b18b0a7f-43ec-4ba4-8c89-99bb7a485444' class='xr-var-attrs-in' type='checkbox' ><label for='attrs-b18b0a7f-43ec-4ba4-8c89-99bb7a485444' title='Show/Hide attributes'><svg class='icon xr-icon-file-text2'><use xlink:href='#icon-file-text2'></use></svg></label><input id='data-ee15f1f2-ebb6-4fba-b81f-17f5bf66b60d' class='xr-var-data-in' type='checkbox'><label for='data-ee15f1f2-ebb6-4fba-b81f-17f5bf66b60d' title='Show/Hide data repr'><svg class='icon xr-icon-database'><use xlink:href='#icon-database'></use></svg></label><div class='xr-var-attrs'><dl class='xr-attrs'><dt><span>long_name :</span></dt><dd>Mean longitude of PF</dd><dt><span>units :</span></dt><dd>degrees</dd></dl></div><div class='xr-var-data'><pre>[2164200 values with dtype=float32]</pre></div></li><li class='xr-var-item'><div class='xr-var-name'><span>pf_lat</span></div><div class='xr-var-dims'>(tracks, times, nmaxpf)</div><div class='xr-var-dtype'>float32</div><div class='xr-var-preview xr-preview'>...</div><input id='attrs-a0e3e41f-98c8-4154-b57c-4f31a6fbab1a' class='xr-var-attrs-in' type='checkbox' ><label for='attrs-a0e3e41f-98c8-4154-b57c-4f31a6fbab1a' title='Show/Hide attributes'><svg class='icon xr-icon-file-text2'><use xlink:href='#icon-file-text2'></use></svg></label><input id='data-87360d11-aa63-4313-8fca-3c483612e254' class='xr-var-data-in' type='checkbox'><label for='data-87360d11-aa63-4313-8fca-3c483612e254' title='Show/Hide data repr'><svg class='icon xr-icon-database'><use xlink:href='#icon-database'></use></svg></label><div class='xr-var-attrs'><dl class='xr-attrs'><dt><span>long_name :</span></dt><dd>Mean latitude of PF</dd><dt><span>units :</span></dt><dd>degrees</dd></dl></div><div class='xr-var-data'><pre>[2164200 values with dtype=float32]</pre></div></li><li class='xr-var-item'><div class='xr-var-name'><span>pf_area</span></div><div class='xr-var-dims'>(tracks, times, nmaxpf)</div><div class='xr-var-dtype'>float32</div><div class='xr-var-preview xr-preview'>...</div><input id='attrs-607f8e78-da74-4e55-8c98-6a10ab86f091' class='xr-var-attrs-in' type='checkbox' ><label for='attrs-607f8e78-da74-4e55-8c98-6a10ab86f091' title='Show/Hide attributes'><svg class='icon xr-icon-file-text2'><use xlink:href='#icon-file-text2'></use></svg></label><input id='data-94dc2b83-5a63-4135-b8f6-c9acda577bc3' class='xr-var-data-in' type='checkbox'><label for='data-94dc2b83-5a63-4135-b8f6-c9acda577bc3' title='Show/Hide data repr'><svg class='icon xr-icon-database'><use xlink:href='#icon-database'></use></svg></label><div class='xr-var-attrs'><dl class='xr-attrs'><dt><span>long_name :</span></dt><dd>Area of PF</dd><dt><span>units :</span></dt><dd>km^2</dd></dl></div><div class='xr-var-data'><pre>[2164200 values with dtype=float32]</pre></div></li><li class='xr-var-item'><div class='xr-var-name'><span>pf_rainrate</span></div><div class='xr-var-dims'>(tracks, times, nmaxpf)</div><div class='xr-var-dtype'>float32</div><div class='xr-var-preview xr-preview'>...</div><input id='attrs-d311f262-bef9-4138-883b-12471ec7b4d5' class='xr-var-attrs-in' type='checkbox' ><label for='attrs-d311f262-bef9-4138-883b-12471ec7b4d5' title='Show/Hide attributes'><svg class='icon xr-icon-file-text2'><use xlink:href='#icon-file-text2'></use></svg></label><input id='data-fa2e2a26-b5c1-49f1-a79f-b13ff0358294' class='xr-var-data-in' type='checkbox'><label for='data-fa2e2a26-b5c1-49f1-a79f-b13ff0358294' title='Show/Hide data repr'><svg class='icon xr-icon-database'><use xlink:href='#icon-database'></use></svg></label><div class='xr-var-attrs'><dl class='xr-attrs'><dt><span>long_name :</span></dt><dd>Mean rain rate of PF</dd><dt><span>units :</span></dt><dd>mm/h</dd></dl></div><div class='xr-var-data'><pre>[2164200 values with dtype=float32]</pre></div></li><li class='xr-var-item'><div class='xr-var-name'><span>pf_skewness</span></div><div class='xr-var-dims'>(tracks, times, nmaxpf)</div><div class='xr-var-dtype'>float32</div><div class='xr-var-preview xr-preview'>...</div><input id='attrs-d5edc03e-5652-4d83-87f1-fea3b33c0eaa' class='xr-var-attrs-in' type='checkbox' ><label for='attrs-d5edc03e-5652-4d83-87f1-fea3b33c0eaa' title='Show/Hide attributes'><svg class='icon xr-icon-file-text2'><use xlink:href='#icon-file-text2'></use></svg></label><input id='data-f8e9b513-ff1b-458e-a6e8-5c234b989be0' class='xr-var-data-in' type='checkbox'><label for='data-f8e9b513-ff1b-458e-a6e8-5c234b989be0' title='Show/Hide data repr'><svg class='icon xr-icon-database'><use xlink:href='#icon-database'></use></svg></label><div class='xr-var-attrs'><dl class='xr-attrs'><dt><span>long_name :</span></dt><dd>Rain rate skewness of PF</dd><dt><span>units :</span></dt><dd>unitless</dd></dl></div><div class='xr-var-data'><pre>[2164200 values with dtype=float32]</pre></div></li><li class='xr-var-item'><div class='xr-var-name'><span>pf_majoraxis</span></div><div class='xr-var-dims'>(tracks, times, nmaxpf)</div><div class='xr-var-dtype'>float32</div><div class='xr-var-preview xr-preview'>...</div><input id='attrs-3e5b841e-df04-4718-8b47-948fe5d16685' class='xr-var-attrs-in' type='checkbox' ><label for='attrs-3e5b841e-df04-4718-8b47-948fe5d16685' title='Show/Hide attributes'><svg class='icon xr-icon-file-text2'><use xlink:href='#icon-file-text2'></use></svg></label><input id='data-17f9649b-cef6-4fae-810b-98d370827b95' class='xr-var-data-in' type='checkbox'><label for='data-17f9649b-cef6-4fae-810b-98d370827b95' title='Show/Hide data repr'><svg class='icon xr-icon-database'><use xlink:href='#icon-database'></use></svg></label><div class='xr-var-attrs'><dl class='xr-attrs'><dt><span>long_name :</span></dt><dd>Major axis length of PF</dd><dt><span>units :</span></dt><dd>km</dd></dl></div><div class='xr-var-data'><pre>[2164200 values with dtype=float32]</pre></div></li><li class='xr-var-item'><div class='xr-var-name'><span>pf_minoraxis</span></div><div class='xr-var-dims'>(tracks, times, nmaxpf)</div><div class='xr-var-dtype'>float32</div><div class='xr-var-preview xr-preview'>...</div><input id='attrs-359b598b-c884-4b3d-9000-bb93a86ef665' class='xr-var-attrs-in' type='checkbox' ><label for='attrs-359b598b-c884-4b3d-9000-bb93a86ef665' title='Show/Hide attributes'><svg class='icon xr-icon-file-text2'><use xlink:href='#icon-file-text2'></use></svg></label><input id='data-ba898ad4-5953-468f-9944-3f799169cc2a' class='xr-var-data-in' type='checkbox'><label for='data-ba898ad4-5953-468f-9944-3f799169cc2a' title='Show/Hide data repr'><svg class='icon xr-icon-database'><use xlink:href='#icon-database'></use></svg></label><div class='xr-var-attrs'><dl class='xr-attrs'><dt><span>long_name :</span></dt><dd>Minor axis length of PF</dd><dt><span>units :</span></dt><dd>km</dd></dl></div><div class='xr-var-data'><pre>[2164200 values with dtype=float32]</pre></div></li><li class='xr-var-item'><div class='xr-var-name'><span>pf_aspectratio</span></div><div class='xr-var-dims'>(tracks, times, nmaxpf)</div><div class='xr-var-dtype'>float32</div><div class='xr-var-preview xr-preview'>...</div><input id='attrs-e18e9411-b864-4586-a35a-43e63ad6df11' class='xr-var-attrs-in' type='checkbox' ><label for='attrs-e18e9411-b864-4586-a35a-43e63ad6df11' title='Show/Hide attributes'><svg class='icon xr-icon-file-text2'><use xlink:href='#icon-file-text2'></use></svg></label><input id='data-06db04ca-ffef-475b-b74b-636254a904cb' class='xr-var-data-in' type='checkbox'><label for='data-06db04ca-ffef-475b-b74b-636254a904cb' title='Show/Hide data repr'><svg class='icon xr-icon-database'><use xlink:href='#icon-database'></use></svg></label><div class='xr-var-attrs'><dl class='xr-attrs'><dt><span>long_name :</span></dt><dd>Aspect ratio (major axis / minor axis) of PF</dd><dt><span>units :</span></dt><dd>unitless</dd></dl></div><div class='xr-var-data'><pre>[2164200 values with dtype=float32]</pre></div></li><li class='xr-var-item'><div class='xr-var-name'><span>pf_orientation</span></div><div class='xr-var-dims'>(tracks, times, nmaxpf)</div><div class='xr-var-dtype'>float32</div><div class='xr-var-preview xr-preview'>...</div><input id='attrs-a05eb751-ef2e-4e13-a10f-4d8f44ae43a9' class='xr-var-attrs-in' type='checkbox' ><label for='attrs-a05eb751-ef2e-4e13-a10f-4d8f44ae43a9' title='Show/Hide attributes'><svg class='icon xr-icon-file-text2'><use xlink:href='#icon-file-text2'></use></svg></label><input id='data-0aff2bb0-c648-4a82-b94a-caed0a7ea141' class='xr-var-data-in' type='checkbox'><label for='data-0aff2bb0-c648-4a82-b94a-caed0a7ea141' title='Show/Hide data repr'><svg class='icon xr-icon-database'><use xlink:href='#icon-database'></use></svg></label><div class='xr-var-attrs'><dl class='xr-attrs'><dt><span>long_name :</span></dt><dd>Orientation of major axis of PF</dd><dt><span>units :</span></dt><dd>degrees</dd></dl></div><div class='xr-var-data'><pre>[2164200 values with dtype=float32]</pre></div></li><li class='xr-var-item'><div class='xr-var-name'><span>pf_eccentricity</span></div><div class='xr-var-dims'>(tracks, times, nmaxpf)</div><div class='xr-var-dtype'>float32</div><div class='xr-var-preview xr-preview'>...</div><input id='attrs-0ba8b108-1706-4f62-b781-c542136b2bf1' class='xr-var-attrs-in' type='checkbox' ><label for='attrs-0ba8b108-1706-4f62-b781-c542136b2bf1' title='Show/Hide attributes'><svg class='icon xr-icon-file-text2'><use xlink:href='#icon-file-text2'></use></svg></label><input id='data-19becbca-043e-42d9-902c-3dce337459e7' class='xr-var-data-in' type='checkbox'><label for='data-19becbca-043e-42d9-902c-3dce337459e7' title='Show/Hide data repr'><svg class='icon xr-icon-database'><use xlink:href='#icon-database'></use></svg></label><div class='xr-var-attrs'><dl class='xr-attrs'><dt><span>long_name :</span></dt><dd>Eccentricity of PF</dd><dt><span>units :</span></dt><dd>unitless</dd></dl></div><div class='xr-var-data'><pre>[2164200 values with dtype=float32]</pre></div></li><li class='xr-var-item'><div class='xr-var-name'><span>pf_lon_centroid</span></div><div class='xr-var-dims'>(tracks, times, nmaxpf)</div><div class='xr-var-dtype'>float32</div><div class='xr-var-preview xr-preview'>...</div><input id='attrs-8d4cd9a9-3acc-413a-9e3c-5c43600c9f40' class='xr-var-attrs-in' type='checkbox' ><label for='attrs-8d4cd9a9-3acc-413a-9e3c-5c43600c9f40' title='Show/Hide attributes'><svg class='icon xr-icon-file-text2'><use xlink:href='#icon-file-text2'></use></svg></label><input id='data-d8a8f5fc-217b-4f28-8085-9642b1269f8d' class='xr-var-data-in' type='checkbox'><label for='data-d8a8f5fc-217b-4f28-8085-9642b1269f8d' title='Show/Hide data repr'><svg class='icon xr-icon-database'><use xlink:href='#icon-database'></use></svg></label><div class='xr-var-attrs'><dl class='xr-attrs'><dt><span>long_name :</span></dt><dd>Centroid longitude of PF</dd><dt><span>units :</span></dt><dd>degrees</dd></dl></div><div class='xr-var-data'><pre>[2164200 values with dtype=float32]</pre></div></li><li class='xr-var-item'><div class='xr-var-name'><span>pf_lat_centroid</span></div><div class='xr-var-dims'>(tracks, times, nmaxpf)</div><div class='xr-var-dtype'>float32</div><div class='xr-var-preview xr-preview'>...</div><input id='attrs-c123956b-e633-40c6-87d8-fb6702f9952a' class='xr-var-attrs-in' type='checkbox' ><label for='attrs-c123956b-e633-40c6-87d8-fb6702f9952a' title='Show/Hide attributes'><svg class='icon xr-icon-file-text2'><use xlink:href='#icon-file-text2'></use></svg></label><input id='data-b7fd1a0b-79ee-489a-9669-9823e6e63044' class='xr-var-data-in' type='checkbox'><label for='data-b7fd1a0b-79ee-489a-9669-9823e6e63044' title='Show/Hide data repr'><svg class='icon xr-icon-database'><use xlink:href='#icon-database'></use></svg></label><div class='xr-var-attrs'><dl class='xr-attrs'><dt><span>long_name :</span></dt><dd>Centroid latitude of PF</dd><dt><span>units :</span></dt><dd>degrees</dd></dl></div><div class='xr-var-data'><pre>[2164200 values with dtype=float32]</pre></div></li><li class='xr-var-item'><div class='xr-var-name'><span>pf_lon_weightedcentroid</span></div><div class='xr-var-dims'>(tracks, times, nmaxpf)</div><div class='xr-var-dtype'>float32</div><div class='xr-var-preview xr-preview'>...</div><input id='attrs-1d1d8d44-6f54-4b3e-bece-039cb848c0f4' class='xr-var-attrs-in' type='checkbox' ><label for='attrs-1d1d8d44-6f54-4b3e-bece-039cb848c0f4' title='Show/Hide attributes'><svg class='icon xr-icon-file-text2'><use xlink:href='#icon-file-text2'></use></svg></label><input id='data-8ac31251-9449-4a7c-a1a3-c6f3f67f48e3' class='xr-var-data-in' type='checkbox'><label for='data-8ac31251-9449-4a7c-a1a3-c6f3f67f48e3' title='Show/Hide data repr'><svg class='icon xr-icon-database'><use xlink:href='#icon-database'></use></svg></label><div class='xr-var-attrs'><dl class='xr-attrs'><dt><span>long_name :</span></dt><dd>Weighted centroid longitude of PF</dd><dt><span>units :</span></dt><dd>degrees</dd></dl></div><div class='xr-var-data'><pre>[2164200 values with dtype=float32]</pre></div></li><li class='xr-var-item'><div class='xr-var-name'><span>pf_lat_weightedcentroid</span></div><div class='xr-var-dims'>(tracks, times, nmaxpf)</div><div class='xr-var-dtype'>float32</div><div class='xr-var-preview xr-preview'>...</div><input id='attrs-eaf6fb46-fd48-4a4d-9308-a1e0d4f49398' class='xr-var-attrs-in' type='checkbox' ><label for='attrs-eaf6fb46-fd48-4a4d-9308-a1e0d4f49398' title='Show/Hide attributes'><svg class='icon xr-icon-file-text2'><use xlink:href='#icon-file-text2'></use></svg></label><input id='data-445ca69d-edc3-4013-aaef-a906c8d76200' class='xr-var-data-in' type='checkbox'><label for='data-445ca69d-edc3-4013-aaef-a906c8d76200' title='Show/Hide data repr'><svg class='icon xr-icon-database'><use xlink:href='#icon-database'></use></svg></label><div class='xr-var-attrs'><dl class='xr-attrs'><dt><span>long_name :</span></dt><dd>Weighted centroid latitude of PF</dd><dt><span>units :</span></dt><dd>degrees</dd></dl></div><div class='xr-var-data'><pre>[2164200 values with dtype=float32]</pre></div></li><li class='xr-var-item'><div class='xr-var-name'><span>pf_maxrainrate</span></div><div class='xr-var-dims'>(tracks, times, nmaxpf)</div><div class='xr-var-dtype'>float32</div><div class='xr-var-preview xr-preview'>...</div><input id='attrs-f9366b06-2e1f-4e96-8d6e-3e9564c07c0b' class='xr-var-attrs-in' type='checkbox' ><label for='attrs-f9366b06-2e1f-4e96-8d6e-3e9564c07c0b' title='Show/Hide attributes'><svg class='icon xr-icon-file-text2'><use xlink:href='#icon-file-text2'></use></svg></label><input id='data-81525f5e-8021-4411-b23f-876e16d54f45' class='xr-var-data-in' type='checkbox'><label for='data-81525f5e-8021-4411-b23f-876e16d54f45' title='Show/Hide data repr'><svg class='icon xr-icon-database'><use xlink:href='#icon-database'></use></svg></label><div class='xr-var-attrs'><dl class='xr-attrs'><dt><span>long_name :</span></dt><dd>Max rain rate of PF</dd><dt><span>units :</span></dt><dd>mm/h</dd></dl></div><div class='xr-var-data'><pre>[2164200 values with dtype=float32]</pre></div></li><li class='xr-var-item'><div class='xr-var-name'><span>pf_accumrain</span></div><div class='xr-var-dims'>(tracks, times, nmaxpf)</div><div class='xr-var-dtype'>float32</div><div class='xr-var-preview xr-preview'>...</div><input id='attrs-6d2594e3-1fc0-4a0b-be01-05a0a9464a4b' class='xr-var-attrs-in' type='checkbox' ><label for='attrs-6d2594e3-1fc0-4a0b-be01-05a0a9464a4b' title='Show/Hide attributes'><svg class='icon xr-icon-file-text2'><use xlink:href='#icon-file-text2'></use></svg></label><input id='data-b9c72ec5-0755-4815-a00f-6f31cbcdeb83' class='xr-var-data-in' type='checkbox'><label for='data-b9c72ec5-0755-4815-a00f-6f31cbcdeb83' title='Show/Hide data repr'><svg class='icon xr-icon-database'><use xlink:href='#icon-database'></use></svg></label><div class='xr-var-attrs'><dl class='xr-attrs'><dt><span>long_name :</span></dt><dd>Accumulate precipitation of PF</dd><dt><span>units :</span></dt><dd>mm/h</dd></dl></div><div class='xr-var-data'><pre>[2164200 values with dtype=float32]</pre></div></li><li class='xr-var-item'><div class='xr-var-name'><span>pf_accumrainheavy</span></div><div class='xr-var-dims'>(tracks, times, nmaxpf)</div><div class='xr-var-dtype'>float32</div><div class='xr-var-preview xr-preview'>...</div><input id='attrs-b96d2f3f-ead3-43e9-b7ce-ecc626af91cd' class='xr-var-attrs-in' type='checkbox' ><label for='attrs-b96d2f3f-ead3-43e9-b7ce-ecc626af91cd' title='Show/Hide attributes'><svg class='icon xr-icon-file-text2'><use xlink:href='#icon-file-text2'></use></svg></label><input id='data-acb83239-248b-447c-b2a1-6ecb5202dff0' class='xr-var-data-in' type='checkbox'><label for='data-acb83239-248b-447c-b2a1-6ecb5202dff0' title='Show/Hide data repr'><svg class='icon xr-icon-database'><use xlink:href='#icon-database'></use></svg></label><div class='xr-var-attrs'><dl class='xr-attrs'><dt><span>long_name :</span></dt><dd>Accumulated heavy precipitation of PF</dd><dt><span>units :</span></dt><dd>mm/h</dd><dt><span>heavy_rainrate_threshold :</span></dt><dd>10.0</dd></dl></div><div class='xr-var-data'><pre>[2164200 values with dtype=float32]</pre></div></li><li class='xr-var-item'><div class='xr-var-name'><span>pf_landfrac</span></div><div class='xr-var-dims'>(tracks, times)</div><div class='xr-var-dtype'>float32</div><div class='xr-var-preview xr-preview'>...</div><input id='attrs-06f08356-2007-465d-a948-703da85c4fa9' class='xr-var-attrs-in' type='checkbox' ><label for='attrs-06f08356-2007-465d-a948-703da85c4fa9' title='Show/Hide attributes'><svg class='icon xr-icon-file-text2'><use xlink:href='#icon-file-text2'></use></svg></label><input id='data-a9dc1d5c-dd1f-467c-85f9-e7b781c19c28' class='xr-var-data-in' type='checkbox'><label for='data-a9dc1d5c-dd1f-467c-85f9-e7b781c19c28' title='Show/Hide data repr'><svg class='icon xr-icon-database'><use xlink:href='#icon-database'></use></svg></label><div class='xr-var-attrs'><dl class='xr-attrs'><dt><span>long_name :</span></dt><dd>Fraction of PF over land</dd><dt><span>units :</span></dt><dd>fraction</dd></dl></div><div class='xr-var-data'><pre>[721400 values with dtype=float32]</pre></div></li><li class='xr-var-item'><div class='xr-var-name'><span>total_rain</span></div><div class='xr-var-dims'>(tracks, times)</div><div class='xr-var-dtype'>float32</div><div class='xr-var-preview xr-preview'>...</div><input id='attrs-6f1a5eda-c184-4041-9cc2-13b2e84fb302' class='xr-var-attrs-in' type='checkbox' ><label for='attrs-6f1a5eda-c184-4041-9cc2-13b2e84fb302' title='Show/Hide attributes'><svg class='icon xr-icon-file-text2'><use xlink:href='#icon-file-text2'></use></svg></label><input id='data-90a8b245-b3f1-4e28-8e1d-124709d0a53c' class='xr-var-data-in' type='checkbox'><label for='data-90a8b245-b3f1-4e28-8e1d-124709d0a53c' title='Show/Hide data repr'><svg class='icon xr-icon-database'><use xlink:href='#icon-database'></use></svg></label><div class='xr-var-attrs'><dl class='xr-attrs'><dt><span>long_name :</span></dt><dd>Total precipitation under cold cloud shield (all rainfall included)</dd><dt><span>units :</span></dt><dd>mm/h</dd></dl></div><div class='xr-var-data'><pre>[721400 values with dtype=float32]</pre></div></li><li class='xr-var-item'><div class='xr-var-name'><span>total_heavyrain</span></div><div class='xr-var-dims'>(tracks, times)</div><div class='xr-var-dtype'>float32</div><div class='xr-var-preview xr-preview'>...</div><input id='attrs-c3212572-887a-422f-839f-3019950c6321' class='xr-var-attrs-in' type='checkbox' ><label for='attrs-c3212572-887a-422f-839f-3019950c6321' title='Show/Hide attributes'><svg class='icon xr-icon-file-text2'><use xlink:href='#icon-file-text2'></use></svg></label><input id='data-eaa9a3b4-463f-4568-bc0b-79b084351df3' class='xr-var-data-in' type='checkbox'><label for='data-eaa9a3b4-463f-4568-bc0b-79b084351df3' title='Show/Hide data repr'><svg class='icon xr-icon-database'><use xlink:href='#icon-database'></use></svg></label><div class='xr-var-attrs'><dl class='xr-attrs'><dt><span>long_name :</span></dt><dd>Total heavy precipitation under cold cloud shield</dd><dt><span>units :</span></dt><dd>mm/h</dd><dt><span>heavy_rainrate_threshold :</span></dt><dd>10.0</dd></dl></div><div class='xr-var-data'><pre>[721400 values with dtype=float32]</pre></div></li><li class='xr-var-item'><div class='xr-var-name'><span>rainrate_heavyrain</span></div><div class='xr-var-dims'>(tracks, times)</div><div class='xr-var-dtype'>float32</div><div class='xr-var-preview xr-preview'>...</div><input id='attrs-31c5a342-f8bf-4314-936c-27364e53c1a1' class='xr-var-attrs-in' type='checkbox' ><label for='attrs-31c5a342-f8bf-4314-936c-27364e53c1a1' title='Show/Hide attributes'><svg class='icon xr-icon-file-text2'><use xlink:href='#icon-file-text2'></use></svg></label><input id='data-7317bfe4-a0e9-4067-86e1-a085fcb98654' class='xr-var-data-in' type='checkbox'><label for='data-7317bfe4-a0e9-4067-86e1-a085fcb98654' title='Show/Hide data repr'><svg class='icon xr-icon-database'><use xlink:href='#icon-database'></use></svg></label><div class='xr-var-attrs'><dl class='xr-attrs'><dt><span>long_name :</span></dt><dd>Mean heavy rain rate under cold cloud shield</dd><dt><span>units :</span></dt><dd>mm/h</dd><dt><span>heavy_rainrate_threshold :</span></dt><dd>10.0</dd></dl></div><div class='xr-var-data'><pre>[721400 values with dtype=float32]</pre></div></li><li class='xr-var-item'><div class='xr-var-name'><span>pf_lifetime</span></div><div class='xr-var-dims'>(tracks)</div><div class='xr-var-dtype'>float32</div><div class='xr-var-preview xr-preview'>...</div><input id='attrs-85b53487-dd4f-4aaa-8c55-20772e919381' class='xr-var-attrs-in' type='checkbox' ><label for='attrs-85b53487-dd4f-4aaa-8c55-20772e919381' title='Show/Hide attributes'><svg class='icon xr-icon-file-text2'><use xlink:href='#icon-file-text2'></use></svg></label><input id='data-d4afc299-9855-4629-adef-ec8b4a6f8350' class='xr-var-data-in' type='checkbox'><label for='data-d4afc299-9855-4629-adef-ec8b4a6f8350' title='Show/Hide data repr'><svg class='icon xr-icon-database'><use xlink:href='#icon-database'></use></svg></label><div class='xr-var-attrs'><dl class='xr-attrs'><dt><span>long_name :</span></dt><dd>MCS lifetime when a significant PF is present</dd><dt><span>units :</span></dt><dd>hour</dd></dl></div><div class='xr-var-data'><pre>array([35., 18.,  7., ...,  5.,  5.,  5.], dtype=float32)</pre></div></li><li class='xr-var-item'><div class='xr-var-name'><span>pf_mcsstatus</span></div><div class='xr-var-dims'>(tracks, times)</div><div class='xr-var-dtype'>float64</div><div class='xr-var-preview xr-preview'>...</div><input id='attrs-14a347cc-f4d2-463d-84df-c74e4cc17579' class='xr-var-attrs-in' type='checkbox' ><label for='attrs-14a347cc-f4d2-463d-84df-c74e4cc17579' title='Show/Hide attributes'><svg class='icon xr-icon-file-text2'><use xlink:href='#icon-file-text2'></use></svg></label><input id='data-c87e286c-0122-4f2a-adc1-1f486eddd0cb' class='xr-var-data-in' type='checkbox'><label for='data-c87e286c-0122-4f2a-adc1-1f486eddd0cb' title='Show/Hide data repr'><svg class='icon xr-icon-database'><use xlink:href='#icon-database'></use></svg></label><div class='xr-var-attrs'><dl class='xr-attrs'><dt><span>long_name :</span></dt><dd>Flag indicating the status of MCS based on PF. 1 = Yes, 0 = No</dd><dt><span>units :</span></dt><dd>unitless</dd></dl></div><div class='xr-var-data'><pre>[721400 values with dtype=float64]</pre></div></li></ul></div></li><li class='xr-section-item'><input id='section-794e2ae0-f951-4050-bff8-bfea9fc0486a' class='xr-section-summary-in' type='checkbox'  ><label for='section-794e2ae0-f951-4050-bff8-bfea9fc0486a' class='xr-section-summary' >Attributes: <span>(22)</span></label><div class='xr-section-inline-details'></div><div class='xr-section-details'><dl class='xr-attrs'><dt><span>Title :</span></dt><dd>Statistics of each MCS track</dd><dt><span>Institution :</span></dt><dd>Pacific Northwest National Laboratory</dd><dt><span>Contact :</span></dt><dd>Zhe Feng, zhe.feng@pnnl.gov</dd><dt><span>Created_on :</span></dt><dd>Mon Dec  5 11:05:07 2022</dd><dt><span>startdate :</span></dt><dd>20200120.0000</dd><dt><span>enddate :</span></dt><dd>20200301.0000</dd><dt><span>timegap_hour :</span></dt><dd>3.1</dd><dt><span>time_resolution_hour :</span></dt><dd>1.0</dd><dt><span>pixel_radius_km :</span></dt><dd>10.0</dd><dt><span>MCS_duration_hr :</span></dt><dd>4</dd><dt><span>MCS_area_km^2 :</span></dt><dd>40000</dd><dt><span>nmaxpf :</span></dt><dd>3</dd><dt><span>PF_rainrate_thresh :</span></dt><dd>2.0</dd><dt><span>heavy_rainrate_thresh :</span></dt><dd>10.0</dd><dt><span>landfrac_thresh :</span></dt><dd>90</dd><dt><span>MCS_PF_majoraxis_thresh :</span></dt><dd>100</dd><dt><span>MCS_PF_duration_thresh :</span></dt><dd>4</dd><dt><span>PF_PF_min_majoraxis_thresh :</span></dt><dd>20</dd><dt><span>coefs_pf_area :</span></dt><dd>[1962    0]</dd><dt><span>coefs_pf_rr :</span></dt><dd>[2.72873 0.     ]</dd><dt><span>coefs_pf_skew :</span></dt><dd>[0.036384 0.      ]</dd><dt><span>coefs_pf_heavyratio :</span></dt><dd>[0.75026 0.     ]</dd></dl></div></li></ul></div></div>"
      ],
      "text/plain": [
       "<xarray.Dataset>\n",
       "Dimensions:                  (tracks: 3607, times: 200, mergers: 200, nmaxpf: 3)\n",
       "Coordinates:\n",
       "  * tracks                   (tracks) int64 0 1 2 3 4 ... 3603 3604 3605 3606\n",
       "  * times                    (times) int64 0 1 2 3 4 5 ... 195 196 197 198 199\n",
       "  * mergers                  (mergers) int64 0 1 2 3 4 5 ... 195 196 197 198 199\n",
       "  * nmaxpf                   (nmaxpf) int64 0 1 2\n",
       "Data variables: (12/50)\n",
       "    track_duration           (tracks) int32 ...\n",
       "    start_status             (tracks) float64 ...\n",
       "    end_status               (tracks) float64 ...\n",
       "    start_basetime           (tracks) datetime64[ns] ...\n",
       "    end_basetime             (tracks) datetime64[ns] ...\n",
       "    start_split_cloudnumber  (tracks) float64 ...\n",
       "    ...                       ...\n",
       "    pf_landfrac              (tracks, times) float32 ...\n",
       "    total_rain               (tracks, times) float32 ...\n",
       "    total_heavyrain          (tracks, times) float32 ...\n",
       "    rainrate_heavyrain       (tracks, times) float32 ...\n",
       "    pf_lifetime              (tracks) float32 ...\n",
       "    pf_mcsstatus             (tracks, times) float64 ...\n",
       "Attributes: (12/22)\n",
       "    Title:                       Statistics of each MCS track\n",
       "    Institution:                 Pacific Northwest National Laboratory\n",
       "    Contact:                     Zhe Feng, zhe.feng@pnnl.gov\n",
       "    Created_on:                  Mon Dec  5 11:05:07 2022\n",
       "    startdate:                   20200120.0000\n",
       "    enddate:                     20200301.0000\n",
       "    ...                          ...\n",
       "    MCS_PF_duration_thresh:      4\n",
       "    PF_PF_min_majoraxis_thresh:  20\n",
       "    coefs_pf_area:               [1962    0]\n",
       "    coefs_pf_rr:                 [2.72873 0.     ]\n",
       "    coefs_pf_skew:               [0.036384 0.      ]\n",
       "    coefs_pf_heavyratio:         [0.75026 0.     ]"
      ]
     },
     "execution_count": 5,
     "metadata": {},
     "output_type": "execute_result"
    }
   ],
   "source": [
    "# Read OBS MCS data\n",
    "dsobs = xr.open_dataset(obsfile)\n",
    "time_res_obs = dsobs.attrs['time_resolution_hour']\n",
    "pixel_radius_obs = dsobs.attrs['pixel_radius_km']\n",
    "dsobs"
   ]
  },
  {
   "cell_type": "code",
   "execution_count": 6,
   "id": "1f3f60f4-0462-4914-abf9-72739beee8c2",
   "metadata": {},
   "outputs": [],
   "source": [
    "# Read m1 data\n",
    "dsm1 = xr.open_dataset(m1file)\n",
    "time_res_m1 = dsm1.attrs['time_resolution_hour']\n",
    "pixel_radius_m1 = dsm1.attrs['pixel_radius_km']"
   ]
  },
  {
   "cell_type": "code",
   "execution_count": 7,
   "id": "2d6f6614-4745-4aaa-a6f5-7f8c8bc55db8",
   "metadata": {},
   "outputs": [],
   "source": [
    "# Read m2 data\n",
    "dsm2 = xr.open_dataset(m2file)\n",
    "time_res_m2 = dsm2.attrs['time_resolution_hour']\n",
    "pixel_radius_m2 = dsm2.attrs['pixel_radius_km']"
   ]
  },
  {
   "cell_type": "code",
   "execution_count": 8,
   "id": "ae1a3af7-d79e-41e1-8982-221f2c0b9921",
   "metadata": {},
   "outputs": [],
   "source": [
    "# Read m3 data\n",
    "dsm3 = xr.open_dataset(m3file)\n",
    "time_res_m3 = dsm3.attrs['time_resolution_hour']\n",
    "pixel_radius_m3 = dsm3.attrs['pixel_radius_km']"
   ]
  },
  {
   "cell_type": "code",
   "execution_count": 9,
   "id": "6e530126-39d2-4d05-9bb9-4cce530bca4e",
   "metadata": {},
   "outputs": [],
   "source": [
    "# Read m4 data\n",
    "dsm4 = xr.open_dataset(m4file)\n",
    "time_res_m4 = dsm4.attrs['time_resolution_hour']\n",
    "pixel_radius_m4 = dsm4.attrs['pixel_radius_km']"
   ]
  },
  {
   "cell_type": "code",
   "execution_count": 10,
   "id": "6b71e658-d95e-4079-a38a-a49a426eac01",
   "metadata": {},
   "outputs": [],
   "source": [
    "# Read m5 data\n",
    "dsm5 = xr.open_dataset(m5file)\n",
    "time_res_m5 = dsm5.attrs['time_resolution_hour']\n",
    "pixel_radius_m5 = dsm5.attrs['pixel_radius_km']"
   ]
  },
  {
   "cell_type": "code",
   "execution_count": 11,
   "id": "32745763-3a79-408e-8bd8-3d18d7b7702f",
   "metadata": {},
   "outputs": [],
   "source": [
    "# Read m6 data\n",
    "dsm6 = xr.open_dataset(m6file)\n",
    "time_res_m6 = dsm6.attrs['time_resolution_hour']\n",
    "pixel_radius_m6 = dsm6.attrs['pixel_radius_km']"
   ]
  },
  {
   "cell_type": "markdown",
   "id": "b89517dc-b654-465c-a202-91bdeb71634a",
   "metadata": {},
   "source": [
    "## Count number of MCSs on grid"
   ]
  },
  {
   "cell_type": "code",
   "execution_count": 12,
   "id": "6aed65cc-58f6-442e-86c8-27db10932af7",
   "metadata": {},
   "outputs": [],
   "source": [
    "# Make 1x1 deg lat/lon bins for couting\n",
    "ranges = [[-60,60], [0,360]]\n",
    "xbins = np.arange(0, 360.1, 1)\n",
    "ybins = np.arange(-60., 60.1, 1)"
   ]
  },
  {
   "cell_type": "code",
   "execution_count": 13,
   "id": "4164cd27-2d15-4f31-a932-6870d0c9c7fe",
   "metadata": {},
   "outputs": [
    {
     "name": "stdout",
     "output_type": "stream",
     "text": [
      "Number of MCS (OBS): 2540\n"
     ]
    }
   ],
   "source": [
    "# Get track initial time valuees\n",
    "base_time_obs = dsobs.base_time.load()\n",
    "starttime_obs = base_time_obs.isel(times=0)\n",
    "# Find track indices within start/end datetime\n",
    "mcsidx_obs = np.where((starttime_obs >= pd.to_datetime(sdate)) & (starttime_obs <= pd.to_datetime(edate)))[0]\n",
    "nmcs_obs = len(mcsidx_obs)\n",
    "print(f'Number of MCS (OBS): {nmcs_obs}')\n",
    "\n",
    "# Round the lat/lon to the nearest integer, \n",
    "# This way the lat/lon are calculated at the precision of 1 degree (i.e., count on a 1x1 degree grid)\n",
    "# Note: counting using histogram2d only works on 1x1 degree grid (unique lat/lon are round to integer)\n",
    "rlat_obs = dsobs.meanlat.isel(tracks=mcsidx_obs).load().round().data\n",
    "rlon_obs = dsobs.meanlon.isel(tracks=mcsidx_obs).load().round().data"
   ]
  },
  {
   "cell_type": "code",
   "execution_count": 14,
   "id": "f4638572-b590-4b68-bdd4-105ac6463a28",
   "metadata": {},
   "outputs": [
    {
     "name": "stdout",
     "output_type": "stream",
     "text": [
      "Number of MCS (mpi): 1157\n"
     ]
    }
   ],
   "source": [
    "# Get track initial time valuees\n",
    "base_time_m1 = dsm1.base_time.load()\n",
    "starttime_m1 = base_time_m1.isel(times=0)\n",
    "# Find track indices within start/end datetime\n",
    "mcsidx_m1 = np.where((starttime_m1 >= pd.to_datetime(sdate)) & (starttime_m1 <= pd.to_datetime(edate)))[0]\n",
    "nmcs_m1 = len(mcsidx_m1)\n",
    "print(f\"Number of MCS ({name_map['m1']}): {nmcs_m1}\")\n",
    "\n",
    "# Round the lat/lon to the nearest integer, \n",
    "# This way the lat/lon are calculated at the precision of 1 degree (i.e., count on a 1x1 degree grid)\n",
    "# Note: counting using histogram2d only works on 1x1 degree grid (unique lat/lon are round to integer)\n",
    "rlat_m1 = dsm1.meanlat.isel(tracks=mcsidx_m1).load().round().data\n",
    "rlon_m1 = dsm1.meanlon.isel(tracks=mcsidx_m1).load().round().data"
   ]
  },
  {
   "cell_type": "code",
   "execution_count": 15,
   "id": "d4711ae9-883d-4e74-a6eb-3da137176000",
   "metadata": {},
   "outputs": [
    {
     "name": "stdout",
     "output_type": "stream",
     "text": [
      "Number of MCS (scream): 1825\n"
     ]
    }
   ],
   "source": [
    "# Get track initial time valuees\n",
    "base_time_m2 = dsm2.base_time.load()\n",
    "starttime_m2 = base_time_m2.isel(times=0)\n",
    "# Find track indices within start/end datetime\n",
    "mcsidx_m2 = np.where((starttime_m2 >= pd.to_datetime(sdate)) & (starttime_m2 <= pd.to_datetime(edate)))[0]\n",
    "nmcs_m2 = len(mcsidx_m2)\n",
    "print(f\"Number of MCS ({name_map['m2']}): {nmcs_m2}\")\n",
    "\n",
    "# Round the lat/lon to the nearest integer, \n",
    "# This way the lat/lon are calculated at the precision of 1 degree (i.e., count on a 1x1 degree grid)\n",
    "# Note: counting using histogram2d only works on 1x1 degree grid (unique lat/lon are round to integer)\n",
    "rlat_m2 = dsm2.meanlat.isel(tracks=mcsidx_m2).load().round().data\n",
    "rlon_m2 = dsm2.meanlon.isel(tracks=mcsidx_m2).load().round().data"
   ]
  },
  {
   "cell_type": "code",
   "execution_count": 16,
   "id": "b6289cb7-cf87-4191-bbaf-ee732b742df8",
   "metadata": {},
   "outputs": [
    {
     "name": "stdout",
     "output_type": "stream",
     "text": [
      "Number of MCS (nasa): 1905\n"
     ]
    }
   ],
   "source": [
    "# Get track initial time valuees\n",
    "base_time_m3 = dsm3.base_time.load()\n",
    "starttime_m3 = base_time_m3.isel(times=0)\n",
    "# Find track indices within start/end datetime\n",
    "mcsidx_m3 = np.where((starttime_m3 >= pd.to_datetime(sdate)) & (starttime_m3 <= pd.to_datetime(edate)))[0]\n",
    "nmcs_m3 = len(mcsidx_m3)\n",
    "print(f\"Number of MCS ({name_map['m3']}): {nmcs_m3}\")\n",
    "\n",
    "# Round the lat/lon to the nearest integer, \n",
    "# This way the lat/lon are calculated at the precision of 1 degree (i.e., count on a 1x1 degree grid)\n",
    "# Note: counting using histogram2d only works on 1x1 degree grid (unique lat/lon are round to integer)\n",
    "rlat_m3 = dsm3.meanlat.isel(tracks=mcsidx_m3).load().round().data\n",
    "rlon_m3 = dsm3.meanlon.isel(tracks=mcsidx_m3).load().round().data"
   ]
  },
  {
   "cell_type": "code",
   "execution_count": 17,
   "id": "bc5856bf-692c-488d-a35d-278fa3458f83",
   "metadata": {},
   "outputs": [
    {
     "name": "stdout",
     "output_type": "stream",
     "text": [
      "Number of MCS (nicam): 2398\n"
     ]
    }
   ],
   "source": [
    "# Get track initial time valuees\n",
    "base_time_m4 = dsm4.base_time.load()\n",
    "starttime_m4 = base_time_m4.isel(times=0)\n",
    "# Find track indices within start/end datetime\n",
    "mcsidx_m4 = np.where((starttime_m4 >= pd.to_datetime(sdate)) & (starttime_m4 <= pd.to_datetime(edate)))[0]\n",
    "nmcs_m4 = len(mcsidx_m4)\n",
    "print(f\"Number of MCS ({name_map['m4']}): {nmcs_m4}\")\n",
    "\n",
    "# Round the lat/lon to the nearest integer, \n",
    "# This way the lat/lon are calculated at the precision of 1 degree (i.e., count on a 1x1 degree grid)\n",
    "# Note: counting using histogram2d only works on 1x1 degree grid (unique lat/lon are round to integer)\n",
    "rlat_m4 = dsm4.meanlat.isel(tracks=mcsidx_m4).load().round().data\n",
    "rlon_m4 = dsm4.meanlon.isel(tracks=mcsidx_m4).load().round().data"
   ]
  },
  {
   "cell_type": "code",
   "execution_count": 18,
   "id": "616a6de9-2903-42cc-b239-70240254170c",
   "metadata": {},
   "outputs": [
    {
     "name": "stdout",
     "output_type": "stream",
     "text": [
      "Number of MCS (noaa): 2131\n"
     ]
    }
   ],
   "source": [
    "# Get track initial time valuees\n",
    "base_time_m5 = dsm5.base_time.load()\n",
    "starttime_m5 = base_time_m5.isel(times=0)\n",
    "# Find track indices within start/end datetime\n",
    "mcsidx_m5 = np.where((starttime_m5 >= pd.to_datetime(sdate)) & (starttime_m5 <= pd.to_datetime(edate)))[0]\n",
    "nmcs_m5 = len(mcsidx_m5)\n",
    "print(f\"Number of MCS ({name_map['m5']}): {nmcs_m5}\")\n",
    "\n",
    "# Round the lat/lon to the nearest integer, \n",
    "# This way the lat/lon are calculated at the precision of 1 degree (i.e., count on a 1x1 degree grid)\n",
    "# Note: counting using histogram2d only works on 1x1 degree grid (unique lat/lon are round to integer)\n",
    "rlat_m5 = dsm5.meanlat.isel(tracks=mcsidx_m5).load().round().data\n",
    "rlon_m5 = dsm5.meanlon.isel(tracks=mcsidx_m5).load().round().data"
   ]
  },
  {
   "cell_type": "code",
   "execution_count": 19,
   "id": "0a053708-dfd5-4659-a3f4-c7e9a0f3c533",
   "metadata": {},
   "outputs": [
    {
     "name": "stdout",
     "output_type": "stream",
     "text": [
      "Number of MCS (uk): 1860\n"
     ]
    }
   ],
   "source": [
    "# Get track initial time valuees\n",
    "base_time_m6 = dsm6.base_time.load()\n",
    "starttime_m6 = base_time_m6.isel(times=0)\n",
    "# Find track indices within start/end datetime\n",
    "mcsidx_m6 = np.where((starttime_m6 >= pd.to_datetime(sdate)) & (starttime_m6 <= pd.to_datetime(edate)))[0]\n",
    "nmcs_m6 = len(mcsidx_m6)\n",
    "print(f\"Number of MCS ({name_map['m6']}): {nmcs_m6}\")\n",
    "\n",
    "# Round the lat/lon to the nearest integer, \n",
    "# This way the lat/lon are calculated at the precision of 1 degree (i.e., count on a 1x1 degree grid)\n",
    "# Note: counting using histogram2d only works on 1x1 degree grid (unique lat/lon are round to integer)\n",
    "rlat_m6 = dsm6.meanlat.isel(tracks=mcsidx_m6).load().round().data\n",
    "rlon_m6 = dsm6.meanlon.isel(tracks=mcsidx_m6).load().round().data"
   ]
  },
  {
   "cell_type": "code",
   "execution_count": 20,
   "id": "1f67bcda-9fe1-4b4f-9606-b021d45a3b7e",
   "metadata": {},
   "outputs": [],
   "source": [
    "# Total MCS count\n",
    "mcs_irnumber_obs = count_unique_mcs(rlat_obs, rlon_obs, xbins, ybins)\n",
    "mcs_irnumber_m1 = count_unique_mcs(rlat_m1, rlon_m1, xbins, ybins)\n",
    "mcs_irnumber_m2 = count_unique_mcs(rlat_m2, rlon_m2, xbins, ybins)\n",
    "mcs_irnumber_m3 = count_unique_mcs(rlat_m3, rlon_m3, xbins, ybins)\n",
    "mcs_irnumber_m4 = count_unique_mcs(rlat_m4, rlon_m4, xbins, ybins)\n",
    "mcs_irnumber_m5 = count_unique_mcs(rlat_m5, rlon_m5, xbins, ybins)\n",
    "mcs_irnumber_m6 = count_unique_mcs(rlat_m6, rlon_m6, xbins, ybins)"
   ]
  },
  {
   "cell_type": "code",
   "execution_count": 21,
   "id": "fb14557f-ec32-4f93-9e93-57db1035964e",
   "metadata": {},
   "outputs": [
    {
     "data": {
      "image/png": "[encoded data removed]",
      "text/plain": [
       "<Figure size 1000x300 with 2 Axes>"
      ]
     },
     "metadata": {},
     "output_type": "display_data"
    }
   ],
   "source": [
    "fig = plt.figure(figsize=[10,3], dpi=100)\n",
    "levels = [1,2,3,5,7,9,12,15]\n",
    "cmap = copy.copy(mpl.cm.get_cmap(\"Spectral_r\"))\n",
    "norm = mpl.colors.BoundaryNorm(boundaries=levels, ncolors=256)\n",
    "pcm = plt.pcolormesh(xbins, ybins, mcs_irnumber_obs, norm=norm, cmap=cmap)\n",
    "plt.colorbar(label='MCS Number', extend='both')\n",
    "pcm.cmap.set_over('magenta')\n",
    "pcm.cmap.set_under('white')"
   ]
  },
  {
   "cell_type": "code",
   "execution_count": 22,
   "id": "8cb6bf00-b56a-4dd3-9c9a-af5fcb6b186e",
   "metadata": {},
   "outputs": [
    {
     "data": {
      "image/png": "[encoded data removed]",
      "text/plain": [
       "<Figure size 1000x300 with 2 Axes>"
      ]
     },
     "metadata": {},
     "output_type": "display_data"
    }
   ],
   "source": [
    "fig = plt.figure(figsize=[10,3], dpi=100)\n",
    "levels = [1,2,3,5,7,9,12,15]\n",
    "cmap = copy.copy(mpl.cm.get_cmap(\"Spectral_r\"))\n",
    "norm = mpl.colors.BoundaryNorm(boundaries=levels, ncolors=256)\n",
    "pcm = plt.pcolormesh(xbins, ybins, mcs_irnumber_m1, norm=norm, cmap=cmap)\n",
    "plt.colorbar(label='MCS Number', extend='both')\n",
    "pcm.cmap.set_over('magenta')\n",
    "pcm.cmap.set_under('white')"
   ]
  },
  {
   "cell_type": "code",
   "execution_count": 23,
   "id": "2c2becc4-aa86-4e9a-9ba7-d3cecf504d88",
   "metadata": {},
   "outputs": [
    {
     "data": {
      "text/plain": [
       "<matplotlib.colorbar.Colorbar at 0x1555226aefb0>"
      ]
     },
     "execution_count": 23,
     "metadata": {},
     "output_type": "execute_result"
    },
    {
     "data": {
      "image/png": "[encoded data removed]",
      "text/plain": [
       "<Figure size 1000x300 with 2 Axes>"
      ]
     },
     "metadata": {},
     "output_type": "display_data"
    }
   ],
   "source": [
    "diff = mcs_irnumber_m1 - mcs_irnumber_obs\n",
    "diffs = gaussian_filter(diff, 1.0)\n",
    "\n",
    "# Calculate lat/lon bin center value\n",
    "lonbins = xbins[:-1] + np.diff(xbins)/2.\n",
    "latbins = ybins[:-1] + np.diff(ybins)/2.\n",
    "\n",
    "fig = plt.figure(figsize=[10,3], dpi=100)\n",
    "levels = [-8,-6,-4,-3,-2,-1,1,2,3,4,6,8]\n",
    "cbticks = levels\n",
    "cmap = mpl.cm.get_cmap('BrBG')\n",
    "norm = mpl.colors.BoundaryNorm(levels, ncolors=cmap.N)\n",
    "plt.pcolormesh(lonbins, latbins, diff, norm=norm, cmap=cmap)\n",
    "plt.colorbar(label='MCS Number', extend='both')"
   ]
  },
  {
   "cell_type": "code",
   "execution_count": 24,
   "id": "38f9cd4b-7016-4ab6-9bad-919619386810",
   "metadata": {},
   "outputs": [],
   "source": [
    "# Define boundaries for calculating regional mean\n",
    "box_mc = [95,150,-20,5]\n",
    "box_itcz = [151,250,0,12]\n",
    "box_spcz = [151,210,-30,-1]\n",
    "box_io = [50,94,-15,5]\n",
    "box_afc = [10,40,-20,5]\n",
    "box_amz = [-75%360,-40%360,-20,0]\n",
    "box_ao = [-40%360,-10%360,-8,8]\n",
    "box_amz180 = [-75,-40,-20,0]\n",
    "box_ao180 = [-40,-10,-8,8]\n",
    "boxes = {\n",
    "    'MC':box_mc,\n",
    "    'ITCZ':box_itcz,\n",
    "    'SPCZ':box_spcz,\n",
    "    'IO':box_io,\n",
    "    'AO':box_ao,\n",
    "    'AFC':box_afc,\n",
    "    'AMZ':box_amz,\n",
    "}"
   ]
  },
  {
   "cell_type": "markdown",
   "id": "adcd30d7-d985-490c-9ceb-3495172f4a68",
   "metadata": {},
   "source": [
    "## Function to calculate regional mean"
   ]
  },
  {
   "cell_type": "code",
   "execution_count": 25,
   "id": "b0da9a76-2e75-4afe-bc20-bc84328120ec",
   "metadata": {},
   "outputs": [],
   "source": [
    "def calc_reg_diff(number_mod, number_obs, boxes, latbins, lonbins):\n",
    "    \"\"\"\n",
    "    Calculate regional mean difference in number\n",
    "    \"\"\"\n",
    "    # Calculate regional mean difference\n",
    "    diff_reg = np.zeros(len(boxes), dtype=float)\n",
    "    text_loc_x = np.zeros(len(boxes), dtype=float)\n",
    "    # Loop over each region\n",
    "    for ii, name in enumerate(boxes):\n",
    "        # print(name)\n",
    "        xid = np.where((lonbins >= boxes[name][0]) & (lonbins <= boxes[name][1]))[0]\n",
    "        yid = np.where((latbins >= boxes[name][2]) & (latbins <= boxes[name][3]))[0]\n",
    "        text_loc_x[ii] = boxes[name][0] + (boxes[name][1] - boxes[name][0])/2.\n",
    "        # Calculate mean difference in percentage\n",
    "        val_mod = number_mod[min(yid):max(yid), min(xid):max(xid)]\n",
    "        val_obs = number_obs[min(yid):max(yid), min(xid):max(xid)]\n",
    "        diff_reg[ii] = 100 * (np.nansum(val_mod) - np.nansum(val_obs)) / np.nansum(val_obs)\n",
    "\n",
    "    # Put values in dictionary\n",
    "    dict_out = dict(zip(boxes.keys(), diff_reg))\n",
    "    print(dict_out)\n",
    "    \n",
    "    return dict_out"
   ]
  },
  {
   "cell_type": "code",
   "execution_count": 26,
   "id": "384cb10d-140c-47ad-a875-ae6ed125a000",
   "metadata": {},
   "outputs": [
    {
     "name": "stdout",
     "output_type": "stream",
     "text": [
      "ICON\n",
      "{'MC': -31.380901668441606, 'ITCZ': 12.275985663082437, 'SPCZ': -86.3672814755413, 'IO': -90.28651292802236, 'AO': -91.35285913528591, 'AFC': -27.437056165267915, 'AMZ': -55.704057279236274}\n"
     ]
    }
   ],
   "source": [
    "print(model_name[name_map['m1']])\n",
    "dict_m1 = calc_reg_diff(mcs_irnumber_m1, mcs_irnumber_obs, boxes, latbins, lonbins)"
   ]
  },
  {
   "cell_type": "code",
   "execution_count": 27,
   "id": "00ad3980-627f-4b4a-b88b-e09b2a6ffb0f",
   "metadata": {},
   "outputs": [
    {
     "name": "stdout",
     "output_type": "stream",
     "text": [
      "SCREAM\n",
      "{'MC': 21.831735889243877, 'ITCZ': -7.347670250896058, 'SPCZ': -54.691259021651966, 'IO': -40.880503144654085, 'AO': -67.22454672245468, 'AFC': -43.70561652679148, 'AMZ': -42.52983293556086}\n"
     ]
    }
   ],
   "source": [
    "print(model_name[name_map['m2']])\n",
    "dict_m2 = calc_reg_diff(mcs_irnumber_m2, mcs_irnumber_obs, boxes, latbins, lonbins)"
   ]
  },
  {
   "cell_type": "code",
   "execution_count": 28,
   "id": "9d49830e-2300-4ca6-a132-6a590f1cdbfb",
   "metadata": {},
   "outputs": [
    {
     "name": "stdout",
     "output_type": "stream",
     "text": [
      "GEOS\n",
      "{'MC': 19.204827831025913, 'ITCZ': 5.197132616487456, 'SPCZ': -58.21972734562951, 'IO': -32.98392732354996, 'AO': -41.98047419804742, 'AFC': -12.976113621691415, 'AMZ': -15.322195704057279}\n"
     ]
    }
   ],
   "source": [
    "print(model_name[name_map['m3']])\n",
    "dict_m3 = calc_reg_diff(mcs_irnumber_m3, mcs_irnumber_obs, boxes, latbins, lonbins)"
   ]
  },
  {
   "cell_type": "code",
   "execution_count": 29,
   "id": "5e92eccb-dd71-4da9-839a-81615ce37ae2",
   "metadata": {},
   "outputs": [
    {
     "name": "stdout",
     "output_type": "stream",
     "text": [
      "NICAM\n",
      "{'MC': 16.364927227547035, 'ITCZ': 51.52329749103943, 'SPCZ': -17.441860465116278, 'IO': 15.234102026554856, 'AO': 19.804741980474198, 'AFC': -11.878631375080698, 'AMZ': -25.58472553699284}\n"
     ]
    }
   ],
   "source": [
    "print(model_name[name_map['m4']])\n",
    "dict_m4 = calc_reg_diff(mcs_irnumber_m4, mcs_irnumber_obs, boxes, latbins, lonbins)"
   ]
  },
  {
   "cell_type": "code",
   "execution_count": 30,
   "id": "ab3c5fc9-a865-4329-b2c7-02578a63dd8b",
   "metadata": {},
   "outputs": [
    {
     "name": "stdout",
     "output_type": "stream",
     "text": [
      "X-SHiELD\n",
      "{'MC': 39.90060347887824, 'ITCZ': 36.02150537634409, 'SPCZ': 10.465116279069768, 'IO': 23.13067784765898, 'AO': -33.19386331938633, 'AFC': -47.385409941898, 'AMZ': -23.914081145584724}\n"
     ]
    }
   ],
   "source": [
    "print(model_name[name_map['m5']])\n",
    "dict_m5 = calc_reg_diff(mcs_irnumber_m5, mcs_irnumber_obs, boxes, latbins, lonbins)"
   ]
  },
  {
   "cell_type": "code",
   "execution_count": 31,
   "id": "d62a8bb2-bf4b-4869-8987-e8c1032ade04",
   "metadata": {},
   "outputs": [
    {
     "name": "stdout",
     "output_type": "stream",
     "text": [
      "UM\n",
      "{'MC': 4.543840965566205, 'ITCZ': -35.12544802867384, 'SPCZ': -22.614274258219726, 'IO': -12.43885394828791, 'AO': -64.71408647140865, 'AFC': -43.83473208521627, 'AMZ': -21.288782816229116}\n"
     ]
    }
   ],
   "source": [
    "print(model_name[name_map['m6']])\n",
    "dict_m6 = calc_reg_diff(mcs_irnumber_m6, mcs_irnumber_obs, boxes, latbins, lonbins)"
   ]
  },
  {
   "cell_type": "code",
   "execution_count": 32,
   "id": "f2ebbaa7-0964-4b69-8f28-cc17190cf3d6",
   "metadata": {},
   "outputs": [
    {
     "data": {
      "text/plain": [
       "['MC', 'ITCZ', 'SPCZ', 'IO', 'AO', 'AFC', 'AMZ']"
      ]
     },
     "execution_count": 32,
     "metadata": {},
     "output_type": "execute_result"
    }
   ],
   "source": [
    "labels = list(dict_m1.keys())\n",
    "labels"
   ]
  },
  {
   "cell_type": "markdown",
   "id": "855021e6-dcf0-477f-a92a-d308f63a1c38",
   "metadata": {},
   "source": [
    "## Plot regional mean difference as bar chart"
   ]
  },
  {
   "cell_type": "code",
   "execution_count": 33,
   "id": "d84fb40d-cff3-4b39-9769-c9d372d5b59f",
   "metadata": {},
   "outputs": [
    {
     "data": {
      "image/png": "[encoded data removed]",
      "text/plain": [
       "<Figure size 1300x400 with 1 Axes>"
      ]
     },
     "metadata": {},
     "output_type": "display_data"
    }
   ],
   "source": [
    "mpl.rcParams['font.size'] = 16\n",
    "mpl.rcParams['font.family'] = 'Helvetica'\n",
    "mpl.rcParams['font.weight'] = 'regular'\n",
    "\n",
    "labels = list(dict_m1.keys())\n",
    "x = np.arange(len(labels))\n",
    "width = 0.1\n",
    "ylim = (-130,60)\n",
    "\n",
    "lcolors = {\n",
    "    'obs':'k', \n",
    "    'm1': 'crimson',\n",
    "    'm2': 'darkorange', \n",
    "    'm3': 'gold',\n",
    "    'm4': 'green',\n",
    "    'm5': 'blue',\n",
    "    'm6': 'purple',\n",
    "}\n",
    "\n",
    "fig, ax = plt.subplots(figsize=[13,4], dpi=100)\n",
    "b_m1 = ax.bar(x - 3*width, list(dict_m1.values()), width, color=lcolors['m1'], label=model_name[name_map['m1']])\n",
    "b_m2 = ax.bar(x - 2*width, list(dict_m2.values()), width, color=lcolors['m2'], label=model_name[name_map['m2']])\n",
    "b_m3 = ax.bar(x - 1*width, list(dict_m3.values()), width, color=lcolors['m3'], label=model_name[name_map['m3']])\n",
    "b_m4 = ax.bar(x + 0*width, list(dict_m4.values()), width, color=lcolors['m4'], label=model_name[name_map['m4']])\n",
    "b_m5 = ax.bar(x + 1*width, list(dict_m5.values()), width, color=lcolors['m5'], label=model_name[name_map['m5']])\n",
    "b_m6 = ax.bar(x + 2*width, list(dict_m6.values()), width, color=lcolors['m6'], label=model_name[name_map['m6']])\n",
    "ax.axhline(y=0, lw=1, ls='--', color='k')\n",
    "ax.grid(which='major', ls='--', axis='y')\n",
    "ax.set_ylim(ylim[0], ylim[1])\n",
    "\n",
    "# Add some text for labels, title and custom x-axis tick labels, etc.\n",
    "ax.set_ylabel(f'$\\Delta$MCS Number (%)')\n",
    "# ax.set_title('', loc='left')\n",
    "ax.set_xticks(x, labels)\n",
    "ax.legend(ncol=6)\n",
    "\n",
    "# ax.bar_label(b_m1, padding=3)\n",
    "fig.tight_layout()\n",
    "figname = f'{figdir}globalmap_robust_mcs_number_regional_meandiff_barchart.png'\n",
    "figname\n",
    "fig.savefig(figname, dpi=300, bbox_inches='tight', facecolor='w')"
   ]
  },
  {
   "cell_type": "code",
   "execution_count": 34,
   "id": "fe1cda44-94e6-465a-8bdf-e851f55018f2",
   "metadata": {},
   "outputs": [
    {
     "data": {
      "text/plain": [
       "'/global/cfs/cdirs/m1867/zfeng/dyamond-winter/figures_pf0duration/globalmap_robust_mcs_number_regional_meandiff_barchart.png'"
      ]
     },
     "execution_count": 34,
     "metadata": {},
     "output_type": "execute_result"
    }
   ],
   "source": [
    "figname"
   ]
  }
 ],
 "metadata": {
  "kernelspec": {
   "display_name": "flextrkr",
   "language": "python",
   "name": "flextrkr"
  },
  "language_info": {
   "codemirror_mode": {
    "name": "ipython",
    "version": 3
   },
   "file_extension": ".py",
   "mimetype": "text/x-python",
   "name": "python",
   "nbconvert_exporter": "python",
   "pygments_lexer": "ipython3",
   "version": "3.10.6"
  }
 },
 "nbformat": 4,
 "nbformat_minor": 5
}
