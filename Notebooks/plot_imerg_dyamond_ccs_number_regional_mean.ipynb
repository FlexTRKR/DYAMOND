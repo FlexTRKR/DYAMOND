{
 "cells": [
  {
   "cell_type": "markdown",
   "id": "95b1c266-7769-4a25-ae23-67b8d2f73ee5",
   "metadata": {},
   "source": [
    "# This notebook plots the average number of CCS comparisons for a set of regions \n",
    "\n",
    "## It uses CCS track statistics file and counts each unique CCS located on a 1x1 degree grid once"
   ]
  },
  {
   "cell_type": "code",
   "execution_count": 1,
   "id": "3d4f9515-51f0-47a3-911c-a47ebd2f810e",
   "metadata": {},
   "outputs": [],
   "source": [
    "import numpy as np\n",
    "import xarray as xr\n",
    "import pandas as pd\n",
    "import glob, os\n",
    "import matplotlib as mpl\n",
    "import matplotlib.pyplot as plt\n",
    "from scipy.ndimage import gaussian_filter\n",
    "import matplotlib as mpl\n",
    "import matplotlib.pyplot as plt\n",
    "import matplotlib.colors as colors\n",
    "import matplotlib.gridspec as gridspec\n",
    "import matplotlib.patches as mpatches\n",
    "from itertools import chain\n",
    "import copy\n",
    "%matplotlib inline"
   ]
  },
  {
   "cell_type": "code",
   "execution_count": 2,
   "id": "1762e4ac-941b-4647-9424-bebb9743e2bf",
   "metadata": {},
   "outputs": [
    {
     "name": "stdout",
     "output_type": "stream",
     "text": [
      "/global/cfs/cdirs/m1867/zfeng/dyamond-winter/figures/\n"
     ]
    }
   ],
   "source": [
    "# Dictionary for official model names\n",
    "model_name = {\n",
    "    'obs': 'OBS',\n",
    "    'scream': 'SCREAM',\n",
    "    'mpi': 'ICON',\n",
    "    'nasa': 'GEOS',\n",
    "    'nicam': 'NICAM',\n",
    "    'uk': 'UM',\n",
    "    'noaa': 'X-SHiELD',\n",
    "}\n",
    "\n",
    "lifetime_bounds = [2,400]\n",
    "sdate = '2020-02-01T00'\n",
    "edate = '2020-03-01T00'\n",
    "\n",
    "test = ''\n",
    "# test = '_ccs1_2h'\n",
    "rootdir = '/global/cfs/cdirs/m1867/zfeng/dyamond-winter/'\n",
    "obsdir = f'{rootdir}obs/stats{test}/monthly/'\n",
    "obsfile = f'{obsdir}track_counts_gridmap_20200201_20200301.nc'\n",
    "\n",
    "name_map = {\n",
    "    'obs': 'obs',\n",
    "    'm1': 'mpi',\n",
    "    'm2': 'scream',\n",
    "    'm3': 'nasa',\n",
    "    'm4': 'nicam',\n",
    "    'm5': 'noaa',\n",
    "    'm6': 'uk',\n",
    "}\n",
    "m1dir = f'{rootdir}{name_map[\"m1\"]}/stats{test}/monthly/'\n",
    "m2dir = f'{rootdir}{name_map[\"m2\"]}/stats{test}/monthly/'\n",
    "m3dir = f'{rootdir}{name_map[\"m3\"]}/stats{test}/monthly/'\n",
    "m4dir = f'{rootdir}{name_map[\"m4\"]}/stats{test}/monthly/'\n",
    "m5dir = f'{rootdir}{name_map[\"m5\"]}/stats{test}/monthly/'\n",
    "m6dir = f'{rootdir}{name_map[\"m6\"]}/stats{test}/monthly/'\n",
    "m1file = f'{m1dir}track_counts_gridmap_20200201_20200301.nc'\n",
    "m2file = f'{m2dir}track_counts_gridmap_20200201_20200301.nc'\n",
    "m3file = f'{m3dir}track_counts_gridmap_20200201_20200301.nc'\n",
    "m4file = f'{m4dir}track_counts_gridmap_20200201_20200301.nc'\n",
    "m5file = f'{m5dir}track_counts_gridmap_20200201_20200301.nc'\n",
    "m6file = f'{m6dir}track_counts_gridmap_20200201_20200301.nc'\n",
    "\n",
    "figdir = f'/global/cfs/cdirs/m1867/zfeng/dyamond-winter/figures{test}/'\n",
    "os.makedirs(figdir, exist_ok=True)\n",
    "print(figdir)"
   ]
  },
  {
   "cell_type": "code",
   "execution_count": 3,
   "id": "9b14c5e9-2eb6-4d42-bac5-7f76a38ec2ec",
   "metadata": {},
   "outputs": [
    {
     "data": {
      "text/plain": [
       "('/global/cfs/cdirs/m1867/zfeng/dyamond-winter/obs/stats/monthly/track_counts_gridmap_20200201_20200301.nc',\n",
       " '/global/cfs/cdirs/m1867/zfeng/dyamond-winter/mpi/stats/monthly/track_counts_gridmap_20200201_20200301.nc',\n",
       " '/global/cfs/cdirs/m1867/zfeng/dyamond-winter/scream/stats/monthly/track_counts_gridmap_20200201_20200301.nc',\n",
       " '/global/cfs/cdirs/m1867/zfeng/dyamond-winter/nasa/stats/monthly/track_counts_gridmap_20200201_20200301.nc',\n",
       " '/global/cfs/cdirs/m1867/zfeng/dyamond-winter/nicam/stats/monthly/track_counts_gridmap_20200201_20200301.nc',\n",
       " '/global/cfs/cdirs/m1867/zfeng/dyamond-winter/noaa/stats/monthly/track_counts_gridmap_20200201_20200301.nc',\n",
       " '/global/cfs/cdirs/m1867/zfeng/dyamond-winter/uk/stats/monthly/track_counts_gridmap_20200201_20200301.nc')"
      ]
     },
     "execution_count": 3,
     "metadata": {},
     "output_type": "execute_result"
    }
   ],
   "source": [
    "obsfile, m1file, m2file, m3file, m4file, m5file, m6file"
   ]
  },
  {
   "cell_type": "code",
   "execution_count": 4,
   "id": "6caaac76-22ea-4ff7-96b9-8c6fa18c7afe",
   "metadata": {},
   "outputs": [
    {
     "data": {
      "text/html": [
       "<div><svg style=\"position: absolute; width: 0; height: 0; overflow: hidden\">\n",
       "<defs>\n",
       "<symbol id=\"icon-database\" viewBox=\"0 0 32 32\">\n",
       "<path d=\"M16 0c-8.837 0-16 2.239-16 5v4c0 2.761 7.163 5 16 5s16-2.239 16-5v-4c0-2.761-7.163-5-16-5z\"></path>\n",
       "<path d=\"M16 17c-8.837 0-16-2.239-16-5v6c0 2.761 7.163 5 16 5s16-2.239 16-5v-6c0 2.761-7.163 5-16 5z\"></path>\n",
       "<path d=\"M16 26c-8.837 0-16-2.239-16-5v6c0 2.761 7.163 5 16 5s16-2.239 16-5v-6c0 2.761-7.163 5-16 5z\"></path>\n",
       "</symbol>\n",
       "<symbol id=\"icon-file-text2\" viewBox=\"0 0 32 32\">\n",
       "<path d=\"M28.681 7.159c-0.694-0.947-1.662-2.053-2.724-3.116s-2.169-2.030-3.116-2.724c-1.612-1.182-2.393-1.319-2.841-1.319h-15.5c-1.378 0-2.5 1.121-2.5 2.5v27c0 1.378 1.122 2.5 2.5 2.5h23c1.378 0 2.5-1.122 2.5-2.5v-19.5c0-0.448-0.137-1.23-1.319-2.841zM24.543 5.457c0.959 0.959 1.712 1.825 2.268 2.543h-4.811v-4.811c0.718 0.556 1.584 1.309 2.543 2.268zM28 29.5c0 0.271-0.229 0.5-0.5 0.5h-23c-0.271 0-0.5-0.229-0.5-0.5v-27c0-0.271 0.229-0.5 0.5-0.5 0 0 15.499-0 15.5 0v7c0 0.552 0.448 1 1 1h7v19.5z\"></path>\n",
       "<path d=\"M23 26h-14c-0.552 0-1-0.448-1-1s0.448-1 1-1h14c0.552 0 1 0.448 1 1s-0.448 1-1 1z\"></path>\n",
       "<path d=\"M23 22h-14c-0.552 0-1-0.448-1-1s0.448-1 1-1h14c0.552 0 1 0.448 1 1s-0.448 1-1 1z\"></path>\n",
       "<path d=\"M23 18h-14c-0.552 0-1-0.448-1-1s0.448-1 1-1h14c0.552 0 1 0.448 1 1s-0.448 1-1 1z\"></path>\n",
       "</symbol>\n",
       "</defs>\n",
       "</svg>\n",
       "<style>/* CSS stylesheet for displaying xarray objects in jupyterlab.\n",
       " *\n",
       " */\n",
       "\n",
       ":root {\n",
       "  --xr-font-color0: var(--jp-content-font-color0, rgba(0, 0, 0, 1));\n",
       "  --xr-font-color2: var(--jp-content-font-color2, rgba(0, 0, 0, 0.54));\n",
       "  --xr-font-color3: var(--jp-content-font-color3, rgba(0, 0, 0, 0.38));\n",
       "  --xr-border-color: var(--jp-border-color2, #e0e0e0);\n",
       "  --xr-disabled-color: var(--jp-layout-color3, #bdbdbd);\n",
       "  --xr-background-color: var(--jp-layout-color0, white);\n",
       "  --xr-background-color-row-even: var(--jp-layout-color1, white);\n",
       "  --xr-background-color-row-odd: var(--jp-layout-color2, #eeeeee);\n",
       "}\n",
       "\n",
       "html[theme=dark],\n",
       "body[data-theme=dark],\n",
       "body.vscode-dark {\n",
       "  --xr-font-color0: rgba(255, 255, 255, 1);\n",
       "  --xr-font-color2: rgba(255, 255, 255, 0.54);\n",
       "  --xr-font-color3: rgba(255, 255, 255, 0.38);\n",
       "  --xr-border-color: #1F1F1F;\n",
       "  --xr-disabled-color: #515151;\n",
       "  --xr-background-color: #111111;\n",
       "  --xr-background-color-row-even: #111111;\n",
       "  --xr-background-color-row-odd: #313131;\n",
       "}\n",
       "\n",
       ".xr-wrap {\n",
       "  display: block !important;\n",
       "  min-width: 300px;\n",
       "  max-width: 700px;\n",
       "}\n",
       "\n",
       ".xr-text-repr-fallback {\n",
       "  /* fallback to plain text repr when CSS is not injected (untrusted notebook) */\n",
       "  display: none;\n",
       "}\n",
       "\n",
       ".xr-header {\n",
       "  padding-top: 6px;\n",
       "  padding-bottom: 6px;\n",
       "  margin-bottom: 4px;\n",
       "  border-bottom: solid 1px var(--xr-border-color);\n",
       "}\n",
       "\n",
       ".xr-header > div,\n",
       ".xr-header > ul {\n",
       "  display: inline;\n",
       "  margin-top: 0;\n",
       "  margin-bottom: 0;\n",
       "}\n",
       "\n",
       ".xr-obj-type,\n",
       ".xr-array-name {\n",
       "  margin-left: 2px;\n",
       "  margin-right: 10px;\n",
       "}\n",
       "\n",
       ".xr-obj-type {\n",
       "  color: var(--xr-font-color2);\n",
       "}\n",
       "\n",
       ".xr-sections {\n",
       "  padding-left: 0 !important;\n",
       "  display: grid;\n",
       "  grid-template-columns: 150px auto auto 1fr 20px 20px;\n",
       "}\n",
       "\n",
       ".xr-section-item {\n",
       "  display: contents;\n",
       "}\n",
       "\n",
       ".xr-section-item input {\n",
       "  display: none;\n",
       "}\n",
       "\n",
       ".xr-section-item input + label {\n",
       "  color: var(--xr-disabled-color);\n",
       "}\n",
       "\n",
       ".xr-section-item input:enabled + label {\n",
       "  cursor: pointer;\n",
       "  color: var(--xr-font-color2);\n",
       "}\n",
       "\n",
       ".xr-section-item input:enabled + label:hover {\n",
       "  color: var(--xr-font-color0);\n",
       "}\n",
       "\n",
       ".xr-section-summary {\n",
       "  grid-column: 1;\n",
       "  color: var(--xr-font-color2);\n",
       "  font-weight: 500;\n",
       "}\n",
       "\n",
       ".xr-section-summary > span {\n",
       "  display: inline-block;\n",
       "  padding-left: 0.5em;\n",
       "}\n",
       "\n",
       ".xr-section-summary-in:disabled + label {\n",
       "  color: var(--xr-font-color2);\n",
       "}\n",
       "\n",
       ".xr-section-summary-in + label:before {\n",
       "  display: inline-block;\n",
       "  content: '►';\n",
       "  font-size: 11px;\n",
       "  width: 15px;\n",
       "  text-align: center;\n",
       "}\n",
       "\n",
       ".xr-section-summary-in:disabled + label:before {\n",
       "  color: var(--xr-disabled-color);\n",
       "}\n",
       "\n",
       ".xr-section-summary-in:checked + label:before {\n",
       "  content: '▼';\n",
       "}\n",
       "\n",
       ".xr-section-summary-in:checked + label > span {\n",
       "  display: none;\n",
       "}\n",
       "\n",
       ".xr-section-summary,\n",
       ".xr-section-inline-details {\n",
       "  padding-top: 4px;\n",
       "  padding-bottom: 4px;\n",
       "}\n",
       "\n",
       ".xr-section-inline-details {\n",
       "  grid-column: 2 / -1;\n",
       "}\n",
       "\n",
       ".xr-section-details {\n",
       "  display: none;\n",
       "  grid-column: 1 / -1;\n",
       "  margin-bottom: 5px;\n",
       "}\n",
       "\n",
       ".xr-section-summary-in:checked ~ .xr-section-details {\n",
       "  display: contents;\n",
       "}\n",
       "\n",
       ".xr-array-wrap {\n",
       "  grid-column: 1 / -1;\n",
       "  display: grid;\n",
       "  grid-template-columns: 20px auto;\n",
       "}\n",
       "\n",
       ".xr-array-wrap > label {\n",
       "  grid-column: 1;\n",
       "  vertical-align: top;\n",
       "}\n",
       "\n",
       ".xr-preview {\n",
       "  color: var(--xr-font-color3);\n",
       "}\n",
       "\n",
       ".xr-array-preview,\n",
       ".xr-array-data {\n",
       "  padding: 0 5px !important;\n",
       "  grid-column: 2;\n",
       "}\n",
       "\n",
       ".xr-array-data,\n",
       ".xr-array-in:checked ~ .xr-array-preview {\n",
       "  display: none;\n",
       "}\n",
       "\n",
       ".xr-array-in:checked ~ .xr-array-data,\n",
       ".xr-array-preview {\n",
       "  display: inline-block;\n",
       "}\n",
       "\n",
       ".xr-dim-list {\n",
       "  display: inline-block !important;\n",
       "  list-style: none;\n",
       "  padding: 0 !important;\n",
       "  margin: 0;\n",
       "}\n",
       "\n",
       ".xr-dim-list li {\n",
       "  display: inline-block;\n",
       "  padding: 0;\n",
       "  margin: 0;\n",
       "}\n",
       "\n",
       ".xr-dim-list:before {\n",
       "  content: '(';\n",
       "}\n",
       "\n",
       ".xr-dim-list:after {\n",
       "  content: ')';\n",
       "}\n",
       "\n",
       ".xr-dim-list li:not(:last-child):after {\n",
       "  content: ',';\n",
       "  padding-right: 5px;\n",
       "}\n",
       "\n",
       ".xr-has-index {\n",
       "  font-weight: bold;\n",
       "}\n",
       "\n",
       ".xr-var-list,\n",
       ".xr-var-item {\n",
       "  display: contents;\n",
       "}\n",
       "\n",
       ".xr-var-item > div,\n",
       ".xr-var-item label,\n",
       ".xr-var-item > .xr-var-name span {\n",
       "  background-color: var(--xr-background-color-row-even);\n",
       "  margin-bottom: 0;\n",
       "}\n",
       "\n",
       ".xr-var-item > .xr-var-name:hover span {\n",
       "  padding-right: 5px;\n",
       "}\n",
       "\n",
       ".xr-var-list > li:nth-child(odd) > div,\n",
       ".xr-var-list > li:nth-child(odd) > label,\n",
       ".xr-var-list > li:nth-child(odd) > .xr-var-name span {\n",
       "  background-color: var(--xr-background-color-row-odd);\n",
       "}\n",
       "\n",
       ".xr-var-name {\n",
       "  grid-column: 1;\n",
       "}\n",
       "\n",
       ".xr-var-dims {\n",
       "  grid-column: 2;\n",
       "}\n",
       "\n",
       ".xr-var-dtype {\n",
       "  grid-column: 3;\n",
       "  text-align: right;\n",
       "  color: var(--xr-font-color2);\n",
       "}\n",
       "\n",
       ".xr-var-preview {\n",
       "  grid-column: 4;\n",
       "}\n",
       "\n",
       ".xr-var-name,\n",
       ".xr-var-dims,\n",
       ".xr-var-dtype,\n",
       ".xr-preview,\n",
       ".xr-attrs dt {\n",
       "  white-space: nowrap;\n",
       "  overflow: hidden;\n",
       "  text-overflow: ellipsis;\n",
       "  padding-right: 10px;\n",
       "}\n",
       "\n",
       ".xr-var-name:hover,\n",
       ".xr-var-dims:hover,\n",
       ".xr-var-dtype:hover,\n",
       ".xr-attrs dt:hover {\n",
       "  overflow: visible;\n",
       "  width: auto;\n",
       "  z-index: 1;\n",
       "}\n",
       "\n",
       ".xr-var-attrs,\n",
       ".xr-var-data {\n",
       "  display: none;\n",
       "  background-color: var(--xr-background-color) !important;\n",
       "  padding-bottom: 5px !important;\n",
       "}\n",
       "\n",
       ".xr-var-attrs-in:checked ~ .xr-var-attrs,\n",
       ".xr-var-data-in:checked ~ .xr-var-data {\n",
       "  display: block;\n",
       "}\n",
       "\n",
       ".xr-var-data > table {\n",
       "  float: right;\n",
       "}\n",
       "\n",
       ".xr-var-name span,\n",
       ".xr-var-data,\n",
       ".xr-attrs {\n",
       "  padding-left: 25px !important;\n",
       "}\n",
       "\n",
       ".xr-attrs,\n",
       ".xr-var-attrs,\n",
       ".xr-var-data {\n",
       "  grid-column: 1 / -1;\n",
       "}\n",
       "\n",
       "dl.xr-attrs {\n",
       "  padding: 0;\n",
       "  margin: 0;\n",
       "  display: grid;\n",
       "  grid-template-columns: 125px auto;\n",
       "}\n",
       "\n",
       ".xr-attrs dt,\n",
       ".xr-attrs dd {\n",
       "  padding: 0;\n",
       "  margin: 0;\n",
       "  float: left;\n",
       "  padding-right: 10px;\n",
       "  width: auto;\n",
       "}\n",
       "\n",
       ".xr-attrs dt {\n",
       "  font-weight: normal;\n",
       "  grid-column: 1;\n",
       "}\n",
       "\n",
       ".xr-attrs dt:hover span {\n",
       "  display: inline-block;\n",
       "  background: var(--xr-background-color);\n",
       "  padding-right: 10px;\n",
       "}\n",
       "\n",
       ".xr-attrs dd {\n",
       "  grid-column: 2;\n",
       "  white-space: pre-wrap;\n",
       "  word-break: break-all;\n",
       "}\n",
       "\n",
       ".xr-icon-database,\n",
       ".xr-icon-file-text2 {\n",
       "  display: inline-block;\n",
       "  vertical-align: middle;\n",
       "  width: 1em;\n",
       "  height: 1.5em !important;\n",
       "  stroke-width: 0;\n",
       "  stroke: currentColor;\n",
       "  fill: currentColor;\n",
       "}\n",
       "</style><pre class='xr-text-repr-fallback'>&lt;xarray.Dataset&gt;\n",
       "Dimensions:       (time: 1, lat: 120, lon: 360, lat_bnds: 121, lon_bnds: 361)\n",
       "Coordinates:\n",
       "  * time          (time) datetime64[ns] 2020-02-01\n",
       "  * lat           (lat) float64 -59.5 -58.5 -57.5 -56.5 ... 56.5 57.5 58.5 59.5\n",
       "  * lon           (lon) float64 0.5 1.5 2.5 3.5 4.5 ... 356.5 357.5 358.5 359.5\n",
       "  * lat_bnds      (lat_bnds) float64 -60.0 -59.0 -58.0 -57.0 ... 58.0 59.0 60.0\n",
       "  * lon_bnds      (lon_bnds) float64 0.0 1.0 2.0 3.0 ... 357.0 358.0 359.0 360.0\n",
       "Data variables:\n",
       "    track_counts  (time, lat, lon) float32 1.0 3.0 0.0 0.0 ... 26.0 23.0 49.0\n",
       "Attributes:\n",
       "    title:       Track counts on grid\n",
       "    start_date:  2020-02-01T00\n",
       "    end_date:    2020-03-01T00\n",
       "    contact:     Zhe Feng, zhe.feng@pnnl.gov\n",
       "    created_on:  Tue Sep 27 12:11:57 2022</pre><div class='xr-wrap' style='display:none'><div class='xr-header'><div class='xr-obj-type'>xarray.Dataset</div></div><ul class='xr-sections'><li class='xr-section-item'><input id='section-238eb51a-f12f-42a6-949f-6dae91f058f3' class='xr-section-summary-in' type='checkbox' disabled ><label for='section-238eb51a-f12f-42a6-949f-6dae91f058f3' class='xr-section-summary'  title='Expand/collapse section'>Dimensions:</label><div class='xr-section-inline-details'><ul class='xr-dim-list'><li><span class='xr-has-index'>time</span>: 1</li><li><span class='xr-has-index'>lat</span>: 120</li><li><span class='xr-has-index'>lon</span>: 360</li><li><span class='xr-has-index'>lat_bnds</span>: 121</li><li><span class='xr-has-index'>lon_bnds</span>: 361</li></ul></div><div class='xr-section-details'></div></li><li class='xr-section-item'><input id='section-3c9fdcf2-e77e-4cc3-8d79-26c23e313850' class='xr-section-summary-in' type='checkbox'  checked><label for='section-3c9fdcf2-e77e-4cc3-8d79-26c23e313850' class='xr-section-summary' >Coordinates: <span>(5)</span></label><div class='xr-section-inline-details'></div><div class='xr-section-details'><ul class='xr-var-list'><li class='xr-var-item'><div class='xr-var-name'><span class='xr-has-index'>time</span></div><div class='xr-var-dims'>(time)</div><div class='xr-var-dtype'>datetime64[ns]</div><div class='xr-var-preview xr-preview'>2020-02-01</div><input id='attrs-091a2941-c3db-450e-bd4d-7af66dbf94d1' class='xr-var-attrs-in' type='checkbox' disabled><label for='attrs-091a2941-c3db-450e-bd4d-7af66dbf94d1' title='Show/Hide attributes'><svg class='icon xr-icon-file-text2'><use xlink:href='#icon-file-text2'></use></svg></label><input id='data-de4ca0f4-b9ce-4687-af6a-e04369dc0d9f' class='xr-var-data-in' type='checkbox'><label for='data-de4ca0f4-b9ce-4687-af6a-e04369dc0d9f' title='Show/Hide data repr'><svg class='icon xr-icon-database'><use xlink:href='#icon-database'></use></svg></label><div class='xr-var-attrs'><dl class='xr-attrs'></dl></div><div class='xr-var-data'><pre>array([&#x27;2020-02-01T00:00:00.000000000&#x27;], dtype=&#x27;datetime64[ns]&#x27;)</pre></div></li><li class='xr-var-item'><div class='xr-var-name'><span class='xr-has-index'>lat</span></div><div class='xr-var-dims'>(lat)</div><div class='xr-var-dtype'>float64</div><div class='xr-var-preview xr-preview'>-59.5 -58.5 -57.5 ... 58.5 59.5</div><input id='attrs-df1b4dfe-8586-41f1-b9a1-d0ab1e7ee459' class='xr-var-attrs-in' type='checkbox' ><label for='attrs-df1b4dfe-8586-41f1-b9a1-d0ab1e7ee459' title='Show/Hide attributes'><svg class='icon xr-icon-file-text2'><use xlink:href='#icon-file-text2'></use></svg></label><input id='data-ce6ad9c9-bda2-4a37-a947-e6815545649e' class='xr-var-data-in' type='checkbox'><label for='data-ce6ad9c9-bda2-4a37-a947-e6815545649e' title='Show/Hide data repr'><svg class='icon xr-icon-database'><use xlink:href='#icon-database'></use></svg></label><div class='xr-var-attrs'><dl class='xr-attrs'><dt><span>long_name :</span></dt><dd>Latitude grid center value</dd><dt><span>units :</span></dt><dd>degree</dd></dl></div><div class='xr-var-data'><pre>array([-59.5, -58.5, -57.5, -56.5, -55.5, -54.5, -53.5, -52.5, -51.5, -50.5,\n",
       "       -49.5, -48.5, -47.5, -46.5, -45.5, -44.5, -43.5, -42.5, -41.5, -40.5,\n",
       "       -39.5, -38.5, -37.5, -36.5, -35.5, -34.5, -33.5, -32.5, -31.5, -30.5,\n",
       "       -29.5, -28.5, -27.5, -26.5, -25.5, -24.5, -23.5, -22.5, -21.5, -20.5,\n",
       "       -19.5, -18.5, -17.5, -16.5, -15.5, -14.5, -13.5, -12.5, -11.5, -10.5,\n",
       "        -9.5,  -8.5,  -7.5,  -6.5,  -5.5,  -4.5,  -3.5,  -2.5,  -1.5,  -0.5,\n",
       "         0.5,   1.5,   2.5,   3.5,   4.5,   5.5,   6.5,   7.5,   8.5,   9.5,\n",
       "        10.5,  11.5,  12.5,  13.5,  14.5,  15.5,  16.5,  17.5,  18.5,  19.5,\n",
       "        20.5,  21.5,  22.5,  23.5,  24.5,  25.5,  26.5,  27.5,  28.5,  29.5,\n",
       "        30.5,  31.5,  32.5,  33.5,  34.5,  35.5,  36.5,  37.5,  38.5,  39.5,\n",
       "        40.5,  41.5,  42.5,  43.5,  44.5,  45.5,  46.5,  47.5,  48.5,  49.5,\n",
       "        50.5,  51.5,  52.5,  53.5,  54.5,  55.5,  56.5,  57.5,  58.5,  59.5])</pre></div></li><li class='xr-var-item'><div class='xr-var-name'><span class='xr-has-index'>lon</span></div><div class='xr-var-dims'>(lon)</div><div class='xr-var-dtype'>float64</div><div class='xr-var-preview xr-preview'>0.5 1.5 2.5 ... 357.5 358.5 359.5</div><input id='attrs-cd7b6730-44eb-4f1a-aba0-8d103de28a76' class='xr-var-attrs-in' type='checkbox' ><label for='attrs-cd7b6730-44eb-4f1a-aba0-8d103de28a76' title='Show/Hide attributes'><svg class='icon xr-icon-file-text2'><use xlink:href='#icon-file-text2'></use></svg></label><input id='data-14937122-8be5-485f-a214-462d02c4d47b' class='xr-var-data-in' type='checkbox'><label for='data-14937122-8be5-485f-a214-462d02c4d47b' title='Show/Hide data repr'><svg class='icon xr-icon-database'><use xlink:href='#icon-database'></use></svg></label><div class='xr-var-attrs'><dl class='xr-attrs'><dt><span>long_name :</span></dt><dd>Longitude grid center value</dd><dt><span>units :</span></dt><dd>degree</dd></dl></div><div class='xr-var-data'><pre>array([  0.5,   1.5,   2.5, ..., 357.5, 358.5, 359.5])</pre></div></li><li class='xr-var-item'><div class='xr-var-name'><span class='xr-has-index'>lat_bnds</span></div><div class='xr-var-dims'>(lat_bnds)</div><div class='xr-var-dtype'>float64</div><div class='xr-var-preview xr-preview'>-60.0 -59.0 -58.0 ... 59.0 60.0</div><input id='attrs-18154cb8-4a7c-41f1-8fbf-b89ac407cf0f' class='xr-var-attrs-in' type='checkbox' ><label for='attrs-18154cb8-4a7c-41f1-8fbf-b89ac407cf0f' title='Show/Hide attributes'><svg class='icon xr-icon-file-text2'><use xlink:href='#icon-file-text2'></use></svg></label><input id='data-6b47076e-7f53-4f5c-a9d0-a789ebf47d59' class='xr-var-data-in' type='checkbox'><label for='data-6b47076e-7f53-4f5c-a9d0-a789ebf47d59' title='Show/Hide data repr'><svg class='icon xr-icon-database'><use xlink:href='#icon-database'></use></svg></label><div class='xr-var-attrs'><dl class='xr-attrs'><dt><span>long_name :</span></dt><dd>Latitude grid grid bounds</dd><dt><span>units :</span></dt><dd>degree</dd></dl></div><div class='xr-var-data'><pre>array([-60., -59., -58., -57., -56., -55., -54., -53., -52., -51., -50., -49.,\n",
       "       -48., -47., -46., -45., -44., -43., -42., -41., -40., -39., -38., -37.,\n",
       "       -36., -35., -34., -33., -32., -31., -30., -29., -28., -27., -26., -25.,\n",
       "       -24., -23., -22., -21., -20., -19., -18., -17., -16., -15., -14., -13.,\n",
       "       -12., -11., -10.,  -9.,  -8.,  -7.,  -6.,  -5.,  -4.,  -3.,  -2.,  -1.,\n",
       "         0.,   1.,   2.,   3.,   4.,   5.,   6.,   7.,   8.,   9.,  10.,  11.,\n",
       "        12.,  13.,  14.,  15.,  16.,  17.,  18.,  19.,  20.,  21.,  22.,  23.,\n",
       "        24.,  25.,  26.,  27.,  28.,  29.,  30.,  31.,  32.,  33.,  34.,  35.,\n",
       "        36.,  37.,  38.,  39.,  40.,  41.,  42.,  43.,  44.,  45.,  46.,  47.,\n",
       "        48.,  49.,  50.,  51.,  52.,  53.,  54.,  55.,  56.,  57.,  58.,  59.,\n",
       "        60.])</pre></div></li><li class='xr-var-item'><div class='xr-var-name'><span class='xr-has-index'>lon_bnds</span></div><div class='xr-var-dims'>(lon_bnds)</div><div class='xr-var-dtype'>float64</div><div class='xr-var-preview xr-preview'>0.0 1.0 2.0 ... 358.0 359.0 360.0</div><input id='attrs-4ca0241c-93e9-413f-990c-95c6efa19185' class='xr-var-attrs-in' type='checkbox' ><label for='attrs-4ca0241c-93e9-413f-990c-95c6efa19185' title='Show/Hide attributes'><svg class='icon xr-icon-file-text2'><use xlink:href='#icon-file-text2'></use></svg></label><input id='data-7d65dfc0-032f-4176-9abb-5cd8fd12b0f7' class='xr-var-data-in' type='checkbox'><label for='data-7d65dfc0-032f-4176-9abb-5cd8fd12b0f7' title='Show/Hide data repr'><svg class='icon xr-icon-database'><use xlink:href='#icon-database'></use></svg></label><div class='xr-var-attrs'><dl class='xr-attrs'><dt><span>long_name :</span></dt><dd>Longitude grid bounds</dd><dt><span>units :</span></dt><dd>degree</dd></dl></div><div class='xr-var-data'><pre>array([  0.,   1.,   2., ..., 358., 359., 360.])</pre></div></li></ul></div></li><li class='xr-section-item'><input id='section-47e945ce-5f29-4c58-b602-fe7bda023fa2' class='xr-section-summary-in' type='checkbox'  checked><label for='section-47e945ce-5f29-4c58-b602-fe7bda023fa2' class='xr-section-summary' >Data variables: <span>(1)</span></label><div class='xr-section-inline-details'></div><div class='xr-section-details'><ul class='xr-var-list'><li class='xr-var-item'><div class='xr-var-name'><span>track_counts</span></div><div class='xr-var-dims'>(time, lat, lon)</div><div class='xr-var-dtype'>float32</div><div class='xr-var-preview xr-preview'>...</div><input id='attrs-5ca8e0af-f337-4954-961a-19931f67df3d' class='xr-var-attrs-in' type='checkbox' ><label for='attrs-5ca8e0af-f337-4954-961a-19931f67df3d' title='Show/Hide attributes'><svg class='icon xr-icon-file-text2'><use xlink:href='#icon-file-text2'></use></svg></label><input id='data-9a5dca7c-0a74-48dd-b212-3067cf2a834e' class='xr-var-data-in' type='checkbox'><label for='data-9a5dca7c-0a74-48dd-b212-3067cf2a834e' title='Show/Hide data repr'><svg class='icon xr-icon-database'><use xlink:href='#icon-database'></use></svg></label><div class='xr-var-attrs'><dl class='xr-attrs'><dt><span>long_name :</span></dt><dd>Track counts on gridded map</dd><dt><span>units :</span></dt><dd>count</dd></dl></div><div class='xr-var-data'><pre>array([[[ 1.,  3., ...,  0.,  2.],\n",
       "        [ 2.,  5., ...,  2.,  1.],\n",
       "        ...,\n",
       "        [ 8., 12., ..., 13., 21.],\n",
       "        [29., 30., ..., 23., 49.]]], dtype=float32)</pre></div></li></ul></div></li><li class='xr-section-item'><input id='section-383028d1-f83c-49e6-97fd-8391c2f88bb8' class='xr-section-summary-in' type='checkbox'  checked><label for='section-383028d1-f83c-49e6-97fd-8391c2f88bb8' class='xr-section-summary' >Attributes: <span>(5)</span></label><div class='xr-section-inline-details'></div><div class='xr-section-details'><dl class='xr-attrs'><dt><span>title :</span></dt><dd>Track counts on grid</dd><dt><span>start_date :</span></dt><dd>2020-02-01T00</dd><dt><span>end_date :</span></dt><dd>2020-03-01T00</dd><dt><span>contact :</span></dt><dd>Zhe Feng, zhe.feng@pnnl.gov</dd><dt><span>created_on :</span></dt><dd>Tue Sep 27 12:11:57 2022</dd></dl></div></li></ul></div></div>"
      ],
      "text/plain": [
       "<xarray.Dataset>\n",
       "Dimensions:       (time: 1, lat: 120, lon: 360, lat_bnds: 121, lon_bnds: 361)\n",
       "Coordinates:\n",
       "  * time          (time) datetime64[ns] 2020-02-01\n",
       "  * lat           (lat) float64 -59.5 -58.5 -57.5 -56.5 ... 56.5 57.5 58.5 59.5\n",
       "  * lon           (lon) float64 0.5 1.5 2.5 3.5 4.5 ... 356.5 357.5 358.5 359.5\n",
       "  * lat_bnds      (lat_bnds) float64 -60.0 -59.0 -58.0 -57.0 ... 58.0 59.0 60.0\n",
       "  * lon_bnds      (lon_bnds) float64 0.0 1.0 2.0 3.0 ... 357.0 358.0 359.0 360.0\n",
       "Data variables:\n",
       "    track_counts  (time, lat, lon) float32 ...\n",
       "Attributes:\n",
       "    title:       Track counts on grid\n",
       "    start_date:  2020-02-01T00\n",
       "    end_date:    2020-03-01T00\n",
       "    contact:     Zhe Feng, zhe.feng@pnnl.gov\n",
       "    created_on:  Tue Sep 27 12:11:57 2022"
      ]
     },
     "execution_count": 4,
     "metadata": {},
     "output_type": "execute_result"
    }
   ],
   "source": [
    "# Read OBS data\n",
    "dsobs = xr.open_dataset(obsfile)\n",
    "dsobs"
   ]
  },
  {
   "cell_type": "code",
   "execution_count": 5,
   "id": "7bbf825e-a5c2-4434-86cf-4d0a34352e2b",
   "metadata": {},
   "outputs": [],
   "source": [
    "# Read m1 data\n",
    "dsm1 = xr.open_dataset(m1file)"
   ]
  },
  {
   "cell_type": "code",
   "execution_count": 6,
   "id": "4e902006-ece9-4678-be0e-0862ee130fb6",
   "metadata": {},
   "outputs": [],
   "source": [
    "# Read m2 data\n",
    "dsm2 = xr.open_dataset(m2file)"
   ]
  },
  {
   "cell_type": "code",
   "execution_count": 7,
   "id": "5c80aed3-060f-4fe3-b52b-20a467aec0f9",
   "metadata": {},
   "outputs": [],
   "source": [
    "# Read m3 data\n",
    "dsm3 = xr.open_dataset(m3file)"
   ]
  },
  {
   "cell_type": "code",
   "execution_count": 8,
   "id": "9d1ce0dc-d480-4222-bc3c-63e29b1ea899",
   "metadata": {},
   "outputs": [],
   "source": [
    "# Read m4 data\n",
    "dsm4 = xr.open_dataset(m4file)"
   ]
  },
  {
   "cell_type": "code",
   "execution_count": 9,
   "id": "94fff5ea-ae98-41eb-93a5-6dad86c0f83d",
   "metadata": {},
   "outputs": [],
   "source": [
    "# Read m5 data\n",
    "dsm5 = xr.open_dataset(m5file)"
   ]
  },
  {
   "cell_type": "code",
   "execution_count": 10,
   "id": "8587aa3e-d538-4153-9e58-e8489d904755",
   "metadata": {},
   "outputs": [],
   "source": [
    "# Read m6 data\n",
    "dsm6 = xr.open_dataset(m6file)"
   ]
  },
  {
   "cell_type": "code",
   "execution_count": 11,
   "id": "9cc8d39e-e2fd-4586-b0db-34d3a641908d",
   "metadata": {},
   "outputs": [],
   "source": [
    "xbins = dsobs['lon_bnds']\n",
    "ybins = dsobs['lat_bnds']\n",
    "# Get lat/lon bin center value\n",
    "lonbins = dsobs['lon']\n",
    "latbins = dsobs['lat']"
   ]
  },
  {
   "cell_type": "code",
   "execution_count": 12,
   "id": "1368e6e2-db59-4e66-ba73-375d8aeea0ef",
   "metadata": {},
   "outputs": [],
   "source": [
    "ccs_number_obs = dsobs['track_counts'].squeeze()\n",
    "ccs_number_m1 = dsm1['track_counts'].squeeze()"
   ]
  },
  {
   "cell_type": "code",
   "execution_count": 13,
   "id": "9cb85d02-6a4d-419d-8392-e0161c584323",
   "metadata": {},
   "outputs": [
    {
     "data": {
      "text/plain": [
       "<matplotlib.colorbar.Colorbar at 0x155522f435e0>"
      ]
     },
     "execution_count": 13,
     "metadata": {},
     "output_type": "execute_result"
    },
    {
     "data": {
      "image/png": "[encoded data removed]",
      "text/plain": [
       "<Figure size 1000x300 with 2 Axes>"
      ]
     },
     "metadata": {},
     "output_type": "display_data"
    }
   ],
   "source": [
    "diff = ccs_number_m1 - ccs_number_obs\n",
    "fig = plt.figure(figsize=[10,3], dpi=100)\n",
    "levels = [-100,-70,-50,-40,-30,-20,-15,-10,-5,0,5,10,15,20,30,40,50,70,100]\n",
    "cmap = mpl.cm.get_cmap('BrBG')\n",
    "norm = mpl.colors.BoundaryNorm(boundaries=levels, ncolors=cmap.N)\n",
    "pcm = plt.pcolormesh(xbins, ybins, diff, norm=norm, cmap=cmap)\n",
    "plt.colorbar(label='$\\Delta$CCS Number', extend='both')"
   ]
  },
  {
   "cell_type": "code",
   "execution_count": 14,
   "id": "d4284066-6e26-4f95-a16a-953ec9543797",
   "metadata": {},
   "outputs": [],
   "source": [
    "# Define boundaries for calculating regional mean\n",
    "box_mc = [95,150,-20,5]\n",
    "box_itcz = [151,250,0,12]\n",
    "box_spcz = [151,210,-30,-1]\n",
    "box_io = [50,94,-15,5]\n",
    "box_afc = [10,40,-20,5]\n",
    "box_amz = [-75%360,-40%360,-20,0]\n",
    "box_ao = [-40%360,-10%360,-8,8]\n",
    "box_amz180 = [-75,-40,-20,0]\n",
    "box_ao180 = [-40,-10,-8,8]\n",
    "boxes = {\n",
    "    'MC':box_mc,\n",
    "    'ITCZ':box_itcz,\n",
    "    'SPCZ':box_spcz,\n",
    "    'IO':box_io,\n",
    "    'AO':box_ao,\n",
    "    'AFC':box_afc,\n",
    "    'AMZ':box_amz,\n",
    "}"
   ]
  },
  {
   "cell_type": "markdown",
   "id": "c2f07bf0-cb23-4cae-a7cb-36da5043354f",
   "metadata": {},
   "source": [
    "## Function to calculate regional mean"
   ]
  },
  {
   "cell_type": "code",
   "execution_count": 15,
   "id": "1008bbb6-cd10-426d-b00d-5df6276cb5a1",
   "metadata": {},
   "outputs": [],
   "source": [
    "def calc_reg_diff(number_mod, number_obs, boxes, latbins, lonbins):\n",
    "    \"\"\"\n",
    "    Calculate regional mean difference in number\n",
    "    \"\"\"\n",
    "    # Calculate regional mean difference\n",
    "    diff_reg = np.zeros(len(boxes), dtype=float)\n",
    "    text_loc_x = np.zeros(len(boxes), dtype=float)\n",
    "    # Loop over each region\n",
    "    for ii, name in enumerate(boxes):\n",
    "        # print(name)\n",
    "        xid = np.where((lonbins >= boxes[name][0]) & (lonbins <= boxes[name][1]))[0]\n",
    "        yid = np.where((latbins >= boxes[name][2]) & (latbins <= boxes[name][3]))[0]\n",
    "        text_loc_x[ii] = boxes[name][0] + (boxes[name][1] - boxes[name][0])/2.\n",
    "        # Calculate mean difference in percentage\n",
    "        val_mod = number_mod[min(yid):max(yid), min(xid):max(xid)]\n",
    "        val_obs = number_obs[min(yid):max(yid), min(xid):max(xid)]\n",
    "        diff_reg[ii] = 100 * (np.nansum(val_mod) - np.nansum(val_obs)) / np.nansum(val_obs)\n",
    "\n",
    "    # Put values in dictionary\n",
    "    dict_out = dict(zip(boxes.keys(), diff_reg))\n",
    "    print(dict_out)\n",
    "    \n",
    "    return dict_out"
   ]
  },
  {
   "cell_type": "code",
   "execution_count": 16,
   "id": "bfdc3506-3766-4be5-b1b2-6ef4ac69d65a",
   "metadata": {},
   "outputs": [
    {
     "name": "stdout",
     "output_type": "stream",
     "text": [
      "ICON\n",
      "{'MC': 179.8065399760315, 'ITCZ': 561.7782152230972, 'SPCZ': 302.89521138048485, 'IO': 166.69806877060762, 'AO': 277.03216879972325, 'AFC': 155.67543923598456, 'AMZ': 132.66857177600778}\n"
     ]
    }
   ],
   "source": [
    "print(model_name[name_map['m1']])\n",
    "dict_m1 = calc_reg_diff(dsm1['track_counts'].squeeze(), dsobs['track_counts'].squeeze(),  boxes, latbins, lonbins)"
   ]
  },
  {
   "cell_type": "code",
   "execution_count": 17,
   "id": "1cb1332c-5b5d-4af1-8511-71ac5c7f29e5",
   "metadata": {},
   "outputs": [
    {
     "name": "stdout",
     "output_type": "stream",
     "text": [
      "SCREAM\n",
      "{'MC': 50.30816640986132, 'ITCZ': 116.51356080489938, 'SPCZ': 89.55620116209177, 'IO': 85.23316062176166, 'AO': 109.68523002421307, 'AFC': -22.395567543923597, 'AMZ': -0.9545813826229708}\n"
     ]
    }
   ],
   "source": [
    "print(model_name[name_map['m2']])\n",
    "dict_m2 = calc_reg_diff(dsm2['track_counts'].squeeze(), dsobs['track_counts'].squeeze(), boxes, latbins, lonbins)"
   ]
  },
  {
   "cell_type": "code",
   "execution_count": 18,
   "id": "ea2bd224-06b1-402e-a886-08bece051e22",
   "metadata": {},
   "outputs": [
    {
     "name": "stdout",
     "output_type": "stream",
     "text": [
      "GEOS\n",
      "{'MC': 24.332306111967128, 'ITCZ': 4.494750656167979, 'SPCZ': -42.16589861751152, 'IO': -13.165332077249175, 'AO': -26.66897267381529, 'AFC': 11.008237952905155, 'AMZ': 13.297257858576032}\n"
     ]
    }
   ],
   "source": [
    "print(model_name[name_map['m3']])\n",
    "dict_m3 = calc_reg_diff(dsm3['track_counts'].squeeze(), dsobs['track_counts'].squeeze(), boxes, latbins, lonbins)"
   ]
  },
  {
   "cell_type": "code",
   "execution_count": 19,
   "id": "7f3ab152-ae55-4030-b1a8-d689f6077733",
   "metadata": {},
   "outputs": [
    {
     "name": "stdout",
     "output_type": "stream",
     "text": [
      "NICAM\n",
      "{'MC': 15.164355418592706, 'ITCZ': 48.89545056867892, 'SPCZ': 0.6411540773392106, 'IO': 37.79243209295023, 'AO': 14.164648910411623, 'AFC': 11.467522052927025, 'AMZ': -11.728582720252934}\n"
     ]
    }
   ],
   "source": [
    "print(model_name[name_map['m4']])\n",
    "dict_m4 = calc_reg_diff(dsm4['track_counts'].squeeze(), dsobs['track_counts'].squeeze(), boxes, latbins, lonbins)"
   ]
  },
  {
   "cell_type": "code",
   "execution_count": 20,
   "id": "6164272f-95e8-4244-867b-829395974125",
   "metadata": {},
   "outputs": [
    {
     "name": "stdout",
     "output_type": "stream",
     "text": [
      "X-SHiELD\n",
      "{'MC': 36.55196028077384, 'ITCZ': 84.01137357830271, 'SPCZ': 49.4840713283911, 'IO': 28.03422829329565, 'AO': -20.771359391214112, 'AFC': -9.185682000437414, 'AMZ': 1.471392959202286}\n"
     ]
    }
   ],
   "source": [
    "print(model_name[name_map['m5']])\n",
    "dict_m5 = calc_reg_diff(dsm5['track_counts'].squeeze(), dsobs['track_counts'].squeeze(), boxes, latbins, lonbins)"
   ]
  },
  {
   "cell_type": "code",
   "execution_count": 21,
   "id": "f3fdea47-d8d0-44b3-a1e8-8ea18c39db88",
   "metadata": {},
   "outputs": [
    {
     "name": "stdout",
     "output_type": "stream",
     "text": [
      "UM\n",
      "{'MC': -16.23865776408149, 'ITCZ': -45.527121609798776, 'SPCZ': -32.03265878581447, 'IO': -43.76668236771864, 'AO': -62.08924247665168, 'AFC': -45.17751694977036, 'AMZ': -25.639934334529094}\n"
     ]
    }
   ],
   "source": [
    "print(model_name[name_map['m6']])\n",
    "dict_m6 = calc_reg_diff(dsm6['track_counts'].squeeze(), dsobs['track_counts'].squeeze(), boxes, latbins, lonbins)"
   ]
  },
  {
   "cell_type": "markdown",
   "id": "b331da20-bfdd-41bf-b2db-46f36022fe31",
   "metadata": {},
   "source": [
    "## Plot regional mean difference as bar chart"
   ]
  },
  {
   "cell_type": "code",
   "execution_count": 22,
   "id": "39c2dcd2-1143-4a95-8e46-e6e05f75b468",
   "metadata": {},
   "outputs": [
    {
     "data": {
      "image/png": "[encoded data removed]",
      "text/plain": [
       "<Figure size 1300x400 with 1 Axes>"
      ]
     },
     "metadata": {},
     "output_type": "display_data"
    }
   ],
   "source": [
    "mpl.rcParams['font.size'] = 16\n",
    "mpl.rcParams['font.family'] = 'Helvetica'\n",
    "mpl.rcParams['font.weight'] = 'regular'\n",
    "\n",
    "labels = list(dict_m1.keys())\n",
    "x = np.arange(len(labels))\n",
    "width = 0.1\n",
    "ylim = (-105,205)\n",
    "\n",
    "lcolors = {\n",
    "    'obs':'k', \n",
    "    'm1': 'crimson',\n",
    "    'm2': 'darkorange', \n",
    "    'm3': 'gold',\n",
    "    'm4': 'green',\n",
    "    'm5': 'blue',\n",
    "    'm6': 'purple',\n",
    "}\n",
    "\n",
    "fig, ax = plt.subplots(figsize=[13,4], dpi=100)\n",
    "b_m1 = ax.bar(x - 3*width, list(dict_m1.values()), width, color=lcolors['m1'], label=model_name[name_map['m1']])\n",
    "b_m2 = ax.bar(x - 2*width, list(dict_m2.values()), width, color=lcolors['m2'], label=model_name[name_map['m2']])\n",
    "b_m3 = ax.bar(x - 1*width, list(dict_m3.values()), width, color=lcolors['m3'], label=model_name[name_map['m3']])\n",
    "b_m4 = ax.bar(x + 0*width, list(dict_m4.values()), width, color=lcolors['m4'], label=model_name[name_map['m4']])\n",
    "b_m5 = ax.bar(x + 1*width, list(dict_m5.values()), width, color=lcolors['m5'], label=model_name[name_map['m5']])\n",
    "b_m6 = ax.bar(x + 2*width, list(dict_m6.values()), width, color=lcolors['m6'], label=model_name[name_map['m6']])\n",
    "ax.axhline(y=0, lw=1, ls='--', color='k')\n",
    "ax.grid(which='major', ls='--', axis='y')\n",
    "ax.set_ylim(ylim[0], ylim[1])\n",
    "\n",
    "# Add some text for labels, title and custom x-axis tick labels, etc.\n",
    "ax.set_ylabel(f'$\\Delta$DCS Number (%)')\n",
    "# ax.set_title('', loc='left')\n",
    "ax.set_xticks(x, labels)\n",
    "ax.legend(ncol=6)\n",
    "\n",
    "# ax.bar_label(b_m1, padding=3)\n",
    "fig.tight_layout()\n",
    "figname = f'{figdir}globalmap_ccs_number_regional_meandiff_barchart.png'\n",
    "fig.savefig(figname, dpi=300, bbox_inches='tight', facecolor='w')"
   ]
  },
  {
   "cell_type": "code",
   "execution_count": 23,
   "id": "500d164f-58ca-4dd6-b17c-4c1995f34693",
   "metadata": {},
   "outputs": [
    {
     "data": {
      "text/plain": [
       "'/global/cfs/cdirs/m1867/zfeng/dyamond-winter/figures/globalmap_ccs_number_regional_meandiff_barchart.png'"
      ]
     },
     "execution_count": 23,
     "metadata": {},
     "output_type": "execute_result"
    }
   ],
   "source": [
    "figname"
   ]
  },
  {
   "cell_type": "code",
   "execution_count": null,
   "id": "1a77c0e8-c5af-4d9b-9cb2-003edab094f7",
   "metadata": {},
   "outputs": [],
   "source": []
  }
 ],
 "metadata": {
  "kernelspec": {
   "display_name": "flextrkr",
   "language": "python",
   "name": "flextrkr"
  },
  "language_info": {
   "codemirror_mode": {
    "name": "ipython",
    "version": 3
   },
   "file_extension": ".py",
   "mimetype": "text/x-python",
   "name": "python",
   "nbconvert_exporter": "python",
   "pygments_lexer": "ipython3",
   "version": "3.10.6"
  }
 },
 "nbformat": 4,
 "nbformat_minor": 5
}
